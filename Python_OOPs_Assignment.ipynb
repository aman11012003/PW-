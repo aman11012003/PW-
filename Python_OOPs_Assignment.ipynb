{
  "nbformat": 4,
  "nbformat_minor": 0,
  "metadata": {
    "colab": {
      "provenance": []
    },
    "kernelspec": {
      "name": "python3",
      "display_name": "Python 3"
    },
    "language_info": {
      "name": "python"
    }
  },
  "cells": [
    {
      "cell_type": "markdown",
      "source": [
        "\n",
        "\n",
        "---\n",
        "\n",
        "**1. What is Object-Oriented Programming (OOP)?**  \n",
        "OOP is a programming paradigm based on the concept of \"objects,\" which encapsulate data (attributes) and behavior (methods). It emphasizes modularity, reusability, and abstraction.\n",
        "\n",
        "---\n",
        "\n",
        "**2. What is a class in OOP?**  \n",
        "A class is a blueprint or template for creating objects. It defines properties (attributes) and methods (functions) that its objects will have.\n",
        "\n",
        "---\n",
        "\n",
        "**3. What is an object in OOP?**\n",
        "\n",
        "An object in Object-Oriented Programming (OOP) is a concrete instance of a class, encapsulating data (attributes) and methods (behaviors). It represents a specific entity in the program, with its state defined by the values of its attributes. Objects can interact with other objects or perform actions using methods. For example, if `Car` is a class, `my_car = Car(color=\"red\", speed=100)` creates an object `my_car` with specific values for `color` and `speed`. Objects are the building blocks of OOP, making it easier to model real-world scenarios.\n",
        "\n",
        "---\n",
        "\n",
        "**4. What is the difference between abstraction and encapsulation?**  \n",
        "- **Abstraction** hides the complexity by exposing only the necessary details (e.g., using interfaces or abstract classes).  \n",
        "- **Encapsulation** restricts direct access to some of an object's components, typically by using private attributes and public methods.\n",
        "\n",
        "---\n",
        "\n",
        "**5. What are dunder methods in Python?**  \n",
        "Dunder methods (short for \"double underscore methods\") in Python are special methods surrounded by double underscores (e.g., `__init__`, `__str__`, `__add__`). These methods provide hooks into Python’s internal behavior, allowing developers to customize the behavior of objects for built-in operations. For instance:\n",
        "\n",
        "- `__init__`: Initializes a new object when created.  \n",
        "- `__str__`: Defines the string representation of an object for `print()` or `str()`.  \n",
        "- `__add__`: Customizes the behavior of the `+` operator.  \n",
        "\n",
        "Dunder methods enable operator overloading, object initialization, and interaction with built-in functions, making them crucial for writing intuitive, Pythonic code.\n",
        "\n",
        "---\n",
        "\n",
        "**6. Explain the concept of inheritance in OOP.**  \n",
        "Inheritance in Object-Oriented Programming (OOP) is a mechanism where one class (child or derived class) acquires the properties and behaviors of another class (parent or base class). This promotes code reuse and establishes a relationship between classes.  \n",
        "\n",
        "For example:  \n",
        "```python\n",
        "class Animal:\n",
        "    def speak(self):\n",
        "        print(\"This animal speaks.\")\n",
        "\n",
        "class Dog(Animal):\n",
        "    def speak(self):  # Overriding the parent method\n",
        "        print(\"The dog barks.\")\n",
        "```\n",
        "\n",
        "In the above example, the `Dog` class inherits the `speak()` method from the `Animal` class but customizes it for its behavior. Inheritance allows polymorphism and hierarchical structuring, making code more modular and easier to maintain.\n",
        "\n",
        "---\n",
        "\n",
        "**7. What is polymorphism in OOP?**  \n",
        "Polymorphism in Object-Oriented Programming (OOP) refers to the ability of different classes to provide unique implementations of methods with the same name. This allows a single interface to work with objects of different types, making code more flexible and extensible.  \n",
        "\n",
        "For example:  \n",
        "```python\n",
        "class Animal:\n",
        "    def speak(self):\n",
        "        pass\n",
        "\n",
        "class Dog(Animal):\n",
        "    def speak(self):\n",
        "        return \"Bark\"\n",
        "\n",
        "class Cat(Animal):\n",
        "    def speak(self):\n",
        "        return \"Meow\"\n",
        "```\n",
        "\n",
        "Here, `speak()` behaves differently based on the object type (`Dog` or `Cat`). Polymorphism allows writing generic code like:  \n",
        "```python\n",
        "for animal in [Dog(), Cat()]:\n",
        "    print(animal.speak())\n",
        "```  \n",
        "This approach simplifies code and reduces the need for conditional logic.\n",
        "\n",
        "---\n",
        "\n",
        "**8. How is encapsulation achieved in Python?**  \n",
        "Encapsulation is achieved by:  \n",
        "- Defining private attributes (prefixing names with `_` or `__`).  \n",
        "- Providing controlled access using getter and setter methods or properties.\n",
        "\n",
        "---\n",
        "\n",
        "**9. What is a constructor in Python?**  \n",
        "A constructor in Python is a special method, `__init__`, that is automatically called when a new object is created from a class. It initializes the object’s attributes and sets up its initial state. Constructors can take arguments to customize the object during creation.\n",
        "\n",
        "For example:  \n",
        "```python\n",
        "class Car:\n",
        "    def __init__(self, color, brand):\n",
        "        self.color = color\n",
        "        self.brand = brand\n",
        "\n",
        "my_car = Car(\"red\", \"Toyota\")\n",
        "print(my_car.color)  # Output: red\n",
        "```\n",
        "\n",
        "In this example, the constructor `__init__` assigns the values of `color` and `brand` to the new `Car` object. Constructors simplify object initialization and ensure consistency.\n",
        "\n",
        "---\n",
        "\n",
        "**10. What are class and static methods in Python?**  \n",
        "- **Class methods** (`@classmethod`) operate on the class itself and receive `cls` as their first parameter.  \n",
        "- **Static methods** (`@staticmethod`) don't operate on the class or instance; they behave like regular functions.\n",
        "\n",
        "---\n",
        "\n",
        "**11. What is method overloading in Python?**  \n",
        "Method overloading in Python refers to defining multiple methods with the same name but different parameter sets. While Python doesn't support method overloading directly, it achieves similar functionality using default arguments or variable-length arguments (`*args` and `**kwargs`).  \n",
        "\n",
        "For example:  \n",
        "```python\n",
        "class Calculator:\n",
        "    def add(self, a, b=0, c=0):\n",
        "        return a + b + c\n",
        "\n",
        "calc = Calculator()\n",
        "print(calc.add(5))          # Output: 5\n",
        "print(calc.add(5, 10))      # Output: 15\n",
        "print(calc.add(5, 10, 15))  # Output: 30\n",
        "```\n",
        "\n",
        "Here, the `add` method handles different numbers of arguments without explicitly defining multiple methods. This provides flexibility while keeping the code concise..\n",
        "\n",
        "---\n",
        "\n",
        "**12. What is method overriding in OOP?**  \n",
        "Method overriding allows a child class to provide a specific implementation for a method already defined in the parent class.\n",
        "\n",
        "---\n",
        "\n",
        "**13. What is a property decorator in Python?**  \n",
        "The `@property` decorator turns a method into a read-only attribute. It simplifies getter functionality for attributes.\n",
        "\n",
        "---\n",
        "\n",
        "**14. Why is polymorphism important in OOP?**  \n",
        "Polymorphism promotes flexibility and extensibility by allowing one interface to handle different types of objects.\n",
        "\n",
        "---\n",
        "\n",
        "**15. What is an abstract class in Python?**  \n",
        "An abstract class is a class that cannot be instantiated directly. It can define abstract methods (using `@abstractmethod`) that must be implemented in derived classes.\n",
        "\n",
        "---\n",
        "\n",
        "**16. What are the advantages of OOP?**  \n",
        "- Modularity and reusability.  \n",
        "- Easier debugging and maintenance.  \n",
        "- Real-world modeling.  \n",
        "- Flexibility via polymorphism and inheritance.\n",
        "\n",
        "---\n",
        "\n",
        "**17. What is the difference between a class variable and an instance variable?**  \n",
        "- **Class variables** are shared across all instances of the class.  \n",
        "- **Instance variables** are specific to each object.\n",
        "\n",
        "---\n",
        "\n",
        "**18. What is multiple inheritance in Python?**  \n",
        "Multiple inheritance allows a class to inherit from more than one parent class. Python resolves conflicts using the Method Resolution Order (MRO).\n",
        "\n",
        "---\n",
        "\n",
        "**19. Explain the purpose of `__str__` and `__repr__` methods in Python.**  \n",
        "- **`__str__`**: Provides a user-friendly string representation of an object.  \n",
        "- **`__repr__`**: Provides an unambiguous string representation (often used for debugging).\n",
        "\n",
        "---\n",
        "\n",
        "**20. What is the significance of the `super()` function in Python?**  \n",
        "The `super()` function in Python is used to access methods or properties of a parent class from a child class. It allows you to call a parent class’s implementation of a method, making it especially useful in cases of inheritance, particularly with method overriding.  \n",
        "\n",
        "**Key benefits of `super()`:**  \n",
        "1. **Code Reusability**: Reuses the parent class's functionality without directly referring to the parent class by name.  \n",
        "2. **Maintainability**: Simplifies code updates by avoiding hardcoding class names.  \n",
        "3. **Supports Multiple Inheritance**: Works with Python's method resolution order (MRO) to handle multiple inheritance scenarios properly.  \n",
        "\n",
        "\n",
        "\n",
        "---\n",
        "\n",
        "**21. What is the significance of the `__del__` method in Python?**  \n",
        "The `__del__` method is a destructor called when an object is deleted or garbage-collected.\n",
        "\n",
        "---\n",
        "\n",
        "**22. What is the difference between `@staticmethod` and `@classmethod` in Python?**  \n",
        "- **`@staticmethod`**: Doesn't require class or instance references.  \n",
        "- **`@classmethod`**: Requires a reference to the class (`cls`).\n",
        "\n",
        "---\n",
        "\n",
        "**23. How does polymorphism work in Python with inheritance?**  \n",
        "Polymorphism in Python allows methods in a parent class to be overridden in child classes, enabling objects to behave differently based on their type.\n",
        "\n",
        "---\n",
        "\n",
        "**24. What is method chaining in Python OOP?**  \n",
        "Method chaining is calling multiple methods on an object sequentially, typically returning `self` to enable chaining.\n",
        "\n",
        "---\n",
        "\n",
        "**25. What is the purpose of the `__call__` method in Python?**  \n",
        "The `__call__` method makes an object callable like a function, enabling custom behavior on function calls.\n",
        "\n",
        "---"
      ],
      "metadata": {
        "id": "tJSQZxfHRr1J"
      }
    },
    {
      "cell_type": "code",
      "source": [
        "#1. Parent Class Animal with Overridden speak() Method\n",
        "\n",
        "class Animal:\n",
        "    def speak(self):\n",
        "        print(\"Animal makes a sound.\")\n",
        "\n",
        "class Dog(Animal):\n",
        "    def speak(self):\n",
        "        print(\"Bark!\")\n",
        "\n",
        "# Example usage:\n",
        "dog = Dog()\n",
        "dog.speak()"
      ],
      "metadata": {
        "colab": {
          "base_uri": "https://localhost:8080/"
        },
        "id": "wAJYvM0SUElt",
        "outputId": "b7b1247d-976d-4c16-c27f-7e254428f640"
      },
      "execution_count": 2,
      "outputs": [
        {
          "output_type": "stream",
          "name": "stdout",
          "text": [
            "Bark!\n"
          ]
        }
      ]
    },
    {
      "cell_type": "code",
      "source": [
        "#2. Abstract Class Shape with Derived Classes Circle and Rectangle\n",
        "\n",
        "from abc import ABC, abstractmethod\n",
        "import math\n",
        "\n",
        "class Shape(ABC):\n",
        "    @abstractmethod\n",
        "    def area(self):\n",
        "        pass\n",
        "\n",
        "class Circle(Shape):\n",
        "    def __init__(self, radius):\n",
        "        self.radius = radius\n",
        "\n",
        "    def area(self):\n",
        "        return math.pi * (self.radius ** 2)\n",
        "\n",
        "class Rectangle(Shape):\n",
        "    def __init__(self, length, width):\n",
        "        self.length = length\n",
        "        self.width = width\n",
        "\n",
        "    def area(self):\n",
        "        return self.length * self.width\n",
        "\n",
        "# Example usage:\n",
        "circle = Circle(5)\n",
        "print(circle.area())\n",
        "\n",
        "rectangle = Rectangle(4, 6)\n",
        "print(rectangle.area())"
      ],
      "metadata": {
        "colab": {
          "base_uri": "https://localhost:8080/"
        },
        "id": "G4PDDc9nUmyu",
        "outputId": "aa9ab2b7-2e0b-4481-9828-a281e6a03980"
      },
      "execution_count": 3,
      "outputs": [
        {
          "output_type": "stream",
          "name": "stdout",
          "text": [
            "78.53981633974483\n",
            "24\n"
          ]
        }
      ]
    },
    {
      "cell_type": "code",
      "source": [
        "#3. Multi-level Inheritance Scenario (Vehicle -> Car -> ElectricCar)\n",
        "\n",
        "class Vehicle:\n",
        "    def __init__(self, type):\n",
        "        self.type = type\n",
        "\n",
        "class Car(Vehicle):\n",
        "    def __init__(self, type, model):\n",
        "        super().__init__(type)\n",
        "        self.model = model\n",
        "\n",
        "class ElectricCar(Car):\n",
        "    def __init__(self, type, model, battery):\n",
        "        super().__init__(type, model)\n",
        "        self.battery = battery\n",
        "\n",
        "# Example usage:\n",
        "electric_car = ElectricCar(\"Electric\", \"Tesla\", \"100 kWh\")\n",
        "print(electric_car.type)\n",
        "print(electric_car.model)\n",
        "print(electric_car.battery)"
      ],
      "metadata": {
        "colab": {
          "base_uri": "https://localhost:8080/"
        },
        "id": "xGFlppYwU1qy",
        "outputId": "ec1e2795-3723-4c29-f0a8-e320d37888cc"
      },
      "execution_count": 5,
      "outputs": [
        {
          "output_type": "stream",
          "name": "stdout",
          "text": [
            "Electric\n",
            "Tesla\n",
            "100 kWh\n"
          ]
        }
      ]
    },
    {
      "cell_type": "code",
      "source": [
        "#4. Multi-level Inheritance Scenario (Vehicle -> Car -> ElectricCar)\n",
        "\n",
        "class Vehicle:\n",
        "    def __init__(self, type):\n",
        "        self.type = type\n",
        "\n",
        "class Car(Vehicle):\n",
        "    def __init__(self, type, model):\n",
        "        super().__init__(type)\n",
        "        self.model = model\n",
        "\n",
        "class ElectricCar(Car):\n",
        "    def __init__(self, type, model, battery):\n",
        "        super().__init__(type, model)\n",
        "        self.battery = battery\n",
        "\n",
        "# Example usage:\n",
        "electric_car = ElectricCar(\"Electric\", \"Tesla\", \"100 kWh\")\n",
        "print(electric_car.type)\n",
        "print(electric_car.model)\n",
        "print(electric_car.battery)"
      ],
      "metadata": {
        "colab": {
          "base_uri": "https://localhost:8080/"
        },
        "id": "iU3eC_InVBid",
        "outputId": "f208f649-2ceb-4896-d052-2fc22118a5b5"
      },
      "execution_count": 6,
      "outputs": [
        {
          "output_type": "stream",
          "name": "stdout",
          "text": [
            "Electric\n",
            "Tesla\n",
            "100 kWh\n"
          ]
        }
      ]
    },
    {
      "cell_type": "code",
      "source": [
        "#5.Demonstrating Encapsulation with BankAccount\n",
        "\n",
        "class BankAccount:\n",
        "    def __init__(self):\n",
        "        self.__balance = 0\n",
        "\n",
        "    def deposit(self, amount):\n",
        "        if amount > 0:\n",
        "            self.__balance += amount\n",
        "\n",
        "    def withdraw(self, amount):\n",
        "        if 0 < amount <= self.__balance:\n",
        "            self.__balance -= amount\n",
        "\n",
        "    def check_balance(self):\n",
        "        return self.__balance\n",
        "\n",
        "# Example usage:\n",
        "account = BankAccount()\n",
        "account.deposit(500)\n",
        "account.withdraw(200)\n",
        "print(account.check_balance())\n"
      ],
      "metadata": {
        "colab": {
          "base_uri": "https://localhost:8080/"
        },
        "id": "T9PL_TMOVIV5",
        "outputId": "9b2683aa-f806-436c-807c-c7b371b50c9b"
      },
      "execution_count": 8,
      "outputs": [
        {
          "output_type": "stream",
          "name": "stdout",
          "text": [
            "300\n"
          ]
        }
      ]
    },
    {
      "cell_type": "code",
      "source": [
        "#6. Demonstrating Runtime Polymorphism with play() Method\n",
        "\n",
        "class Instrument:\n",
        "    def play(self):\n",
        "        print(\"Playing an instrument\")\n",
        "\n",
        "class Guitar(Instrument):\n",
        "    def play(self):\n",
        "        print(\"Strumming the guitar\")\n",
        "\n",
        "class Piano(Instrument):\n",
        "    def play(self):\n",
        "        print(\"Playing the piano\")\n",
        "\n",
        "# Example usage:\n",
        "instrument = Instrument()\n",
        "guitar = Guitar()\n",
        "piano = Piano()\n",
        "\n",
        "instrument.play()\n",
        "guitar.play()\n",
        "piano.play()"
      ],
      "metadata": {
        "colab": {
          "base_uri": "https://localhost:8080/"
        },
        "id": "ikPzOknbVTMj",
        "outputId": "dc5f39a1-5aec-4e0a-aebb-1951b43f7a38"
      },
      "execution_count": 9,
      "outputs": [
        {
          "output_type": "stream",
          "name": "stdout",
          "text": [
            "Playing an instrument\n",
            "Strumming the guitar\n",
            "Playing the piano\n"
          ]
        }
      ]
    },
    {
      "cell_type": "code",
      "source": [
        " #7 MathOperations with Class and Static Methods\n",
        "\n",
        "class MathOperations:\n",
        "    @classmethod\n",
        "    def add_numbers(cls, a, b):\n",
        "        return a + b\n",
        "\n",
        "    @staticmethod\n",
        "    def subtract_numbers(a, b):\n",
        "        return a - b\n",
        "\n",
        "# Example usage:\n",
        "print(MathOperations.add_numbers(5, 3))\n",
        "print(MathOperations.subtract_numbers(5, 3))"
      ],
      "metadata": {
        "colab": {
          "base_uri": "https://localhost:8080/"
        },
        "id": "QCBp-AtiVezC",
        "outputId": "cf30d749-5a59-4b27-e80e-4c320315ae7d"
      },
      "execution_count": 10,
      "outputs": [
        {
          "output_type": "stream",
          "name": "stdout",
          "text": [
            "8\n",
            "2\n"
          ]
        }
      ]
    },
    {
      "cell_type": "code",
      "source": [
        "#8. Person Class with Class Method to Count Persons Created\n",
        "\n",
        "class Person:\n",
        "    count = 0\n",
        "\n",
        "    def __init__(self, name, age):\n",
        "        self.name = name\n",
        "        self.age = age\n",
        "        Person.count += 1\n",
        "\n",
        "    @classmethod\n",
        "    def get_person_count(cls):\n",
        "        return cls.count\n",
        "\n",
        "# Example usage:\n",
        "person1 = Person(\"Alice\", 30)\n",
        "person2 = Person(\"Bob\", 25)\n",
        "print(Person.get_person_count())"
      ],
      "metadata": {
        "colab": {
          "base_uri": "https://localhost:8080/"
        },
        "id": "ifZBHWilVtKn",
        "outputId": "74e6eaa9-7ae2-4519-e604-74ac5a1202e1"
      },
      "execution_count": 11,
      "outputs": [
        {
          "output_type": "stream",
          "name": "stdout",
          "text": [
            "2\n"
          ]
        }
      ]
    },
    {
      "cell_type": "code",
      "source": [
        "#9.Fraction Class with __str__ Method\n",
        "\n",
        "class Fraction:\n",
        "    def __init__(self, numerator, denominator):\n",
        "        self.numerator = numerator\n",
        "        self.denominator = denominator\n",
        "\n",
        "    def __str__(self):\n",
        "        return f\"{self.numerator}/{self.denominator}\"\n",
        "\n",
        "# Example usage:\n",
        "fraction = Fraction(3, 4)\n",
        "print(fraction)"
      ],
      "metadata": {
        "colab": {
          "base_uri": "https://localhost:8080/"
        },
        "id": "YMtIZdhvV1GS",
        "outputId": "8edca9d6-fa63-4455-8ff9-ccda585f89c8"
      },
      "execution_count": 12,
      "outputs": [
        {
          "output_type": "stream",
          "name": "stdout",
          "text": [
            "3/4\n"
          ]
        }
      ]
    },
    {
      "cell_type": "code",
      "source": [
        "#10.Demonstrating Operator Overloading with Vectors\n",
        "\n",
        "class Vector:\n",
        "    def __init__(self, x, y):\n",
        "        self.x = x\n",
        "        self.y = y\n",
        "\n",
        "    def __add__(self, other):\n",
        "        return Vector(self.x + other.x, self.y + other.y)\n",
        "\n",
        "    def __str__(self):\n",
        "        return f\"({self.x}, {self.y})\"\n",
        "\n",
        "# Example usage:\n",
        "v1 = Vector(1, 2)\n",
        "v2 = Vector(3, 4)\n",
        "v3 = v1 + v2\n",
        "print(v3)"
      ],
      "metadata": {
        "colab": {
          "base_uri": "https://localhost:8080/"
        },
        "id": "qpRRBtWvV_ND",
        "outputId": "0f7d7c55-07de-4c83-af28-38c86c1f4db6"
      },
      "execution_count": 13,
      "outputs": [
        {
          "output_type": "stream",
          "name": "stdout",
          "text": [
            "(4, 6)\n"
          ]
        }
      ]
    },
    {
      "cell_type": "code",
      "source": [
        "#11. Person Class with greet() Method\n",
        "\n",
        "class Person:\n",
        "    def __init__(self, name, age):\n",
        "        self.name = name\n",
        "        self.age = age\n",
        "\n",
        "    def greet(self):\n",
        "        print(f\"Hello, my name is {self.name} and I am {self.age} years old.\")\n",
        "\n",
        "# Example usage:\n",
        "person = Person(\"aman \", 23)\n",
        "person.greet()"
      ],
      "metadata": {
        "colab": {
          "base_uri": "https://localhost:8080/"
        },
        "id": "rmiW5rH1WGef",
        "outputId": "693278ba-72bb-4b28-ef60-84fdb6c92e4a"
      },
      "execution_count": 15,
      "outputs": [
        {
          "output_type": "stream",
          "name": "stdout",
          "text": [
            "Hello, my name is aman  and I am 23 years old.\n"
          ]
        }
      ]
    },
    {
      "cell_type": "code",
      "source": [
        "#12. Student Class with average_grade() Method\n",
        "\n",
        "class Student:\n",
        "    def __init__(self, name, grades):\n",
        "        self.name = name\n",
        "        self.grades = grades\n",
        "\n",
        "    def average_grade(self):\n",
        "        return sum(self.grades) / len(self.grades)\n",
        "\n",
        "# Example usage:\n",
        "student = Student(\"Alice\", [85, 90, 92, 88])\n",
        "print(student.average_grade())"
      ],
      "metadata": {
        "colab": {
          "base_uri": "https://localhost:8080/"
        },
        "id": "p6FAexITWWW1",
        "outputId": "40d8a133-b14d-48ea-d600-b8b8dfab80fd"
      },
      "execution_count": 16,
      "outputs": [
        {
          "output_type": "stream",
          "name": "stdout",
          "text": [
            "88.75\n"
          ]
        }
      ]
    },
    {
      "cell_type": "code",
      "source": [
        "#13. Rectangle Class with Methods for Dimensions and Area\n",
        "\n",
        "class Rectangle:\n",
        "    def __init__(self):\n",
        "        self.length = 0\n",
        "        self.width = 0\n",
        "\n",
        "    def set_dimensions(self, length, width):\n",
        "        self.length = length\n",
        "        self.width = width\n",
        "\n",
        "    def area(self):\n",
        "        return self.length * self.width\n",
        "\n",
        "# Example usage:\n",
        "rect = Rectangle()\n",
        "rect.set_dimensions(5, 3)\n",
        "print(rect.area())"
      ],
      "metadata": {
        "colab": {
          "base_uri": "https://localhost:8080/"
        },
        "id": "zpaYQL6VWeky",
        "outputId": "457b7f66-cecc-494e-ec88-0fca18be5ba5"
      },
      "execution_count": 17,
      "outputs": [
        {
          "output_type": "stream",
          "name": "stdout",
          "text": [
            "15\n"
          ]
        }
      ]
    },
    {
      "cell_type": "code",
      "source": [
        "#14. Employee Class with calculate_salary() and Manager Class with Bonus\n",
        "\n",
        "class Employee:\n",
        "    def __init__(self, hours_worked, hourly_rate):\n",
        "        self.hours_worked = hours_worked\n",
        "        self.hourly_rate = hourly_rate\n",
        "\n",
        "    def calculate_salary(self):\n",
        "        return self.hours_worked * self.hourly_rate\n",
        "\n",
        "class Manager(Employee):\n",
        "    def __init__(self, hours_worked, hourly_rate, bonus):\n",
        "        super().__init__(hours_worked, hourly_rate)\n",
        "        self.bonus = bonus\n",
        "\n",
        "    def calculate_salary(self):\n",
        "        return super().calculate_salary() + self.bonus\n",
        "\n",
        "# Example usage:\n",
        "manager = Manager(40, 50, 500)\n",
        "print(manager.calculate_salary())"
      ],
      "metadata": {
        "colab": {
          "base_uri": "https://localhost:8080/"
        },
        "id": "LPCOcuP0WljA",
        "outputId": "ae26fe6d-0e00-4bb2-c195-63633e440493"
      },
      "execution_count": 18,
      "outputs": [
        {
          "output_type": "stream",
          "name": "stdout",
          "text": [
            "2500\n"
          ]
        }
      ]
    },
    {
      "cell_type": "code",
      "source": [
        "#15. Product Class with total_price() Method\n",
        "\n",
        "class Product:\n",
        "    def __init__(self, name, price, quantity):\n",
        "        self.name = name\n",
        "        self.price = price\n",
        "        self.quantity = quantity\n",
        "\n",
        "    def total_price(self):\n",
        "        return self.price * self.quantity\n",
        "\n",
        "# Example usage:\n",
        "product = Product(\"Laptop\", 1000, 3)\n",
        "print(product.total_price())"
      ],
      "metadata": {
        "colab": {
          "base_uri": "https://localhost:8080/"
        },
        "id": "WT4KDuITW2SQ",
        "outputId": "6271ab6b-bbee-4421-ce7d-814a123c09ef"
      },
      "execution_count": 19,
      "outputs": [
        {
          "output_type": "stream",
          "name": "stdout",
          "text": [
            "3000\n"
          ]
        }
      ]
    },
    {
      "cell_type": "code",
      "source": [
        "#16. Animal Class with Abstract Method sound() and Derived Classes Cow and Sheep\n",
        "\n",
        "from abc import ABC, abstractmethod\n",
        "\n",
        "class Animal(ABC):\n",
        "    @abstractmethod\n",
        "    def sound(self):\n",
        "        pass\n",
        "\n",
        "class Cow(Animal):\n",
        "    def sound(self):\n",
        "        print(\"Moo!\")\n",
        "\n",
        "class Sheep(Animal):\n",
        "    def sound(self):\n",
        "        print(\"Baa!\")\n",
        "\n",
        "# Example usage:\n",
        "cow = Cow()\n",
        "cow.sound()\n",
        "\n",
        "sheep = Sheep()\n",
        "sheep.sound()"
      ],
      "metadata": {
        "colab": {
          "base_uri": "https://localhost:8080/"
        },
        "id": "iLmYAOvuW6vL",
        "outputId": "d497b1f6-00ea-47ad-d8dc-e8f309b9d5ca"
      },
      "execution_count": 20,
      "outputs": [
        {
          "output_type": "stream",
          "name": "stdout",
          "text": [
            "Moo!\n",
            "Baa!\n"
          ]
        }
      ]
    },
    {
      "cell_type": "code",
      "source": [
        "\n",
        "#17. Book Class with get_book_info() Method\n",
        "\n",
        "class Book:\n",
        "    def __init__(self, title, author, year_published):\n",
        "        self.title = title\n",
        "        self.author = author\n",
        "        self.year_published = year_published\n",
        "\n",
        "    def get_book_info(self):\n",
        "        return f\"'{self.title}' by {self.author}, published in {self.year_published}\"\n",
        "\n",
        "# Example usage:\n",
        "book = Book(\"To Kill a Mockingbird\", \"Harper Lee\", 1960)\n",
        "print(book.get_book_info())"
      ],
      "metadata": {
        "colab": {
          "base_uri": "https://localhost:8080/"
        },
        "id": "klRro3kyXEdf",
        "outputId": "7cc36849-08fe-4d3d-e6a6-990ce234daad"
      },
      "execution_count": 21,
      "outputs": [
        {
          "output_type": "stream",
          "name": "stdout",
          "text": [
            "'To Kill a Mockingbird' by Harper Lee, published in 1960\n"
          ]
        }
      ]
    },
    {
      "cell_type": "code",
      "source": [
        "#18. House Class with Mansion Derived Class\n",
        "\n",
        "class House:\n",
        "    def __init__(self, address, price):\n",
        "        self.address = address\n",
        "        self.price = price\n",
        "\n",
        "class Mansion(House):\n",
        "    def __init__(self, address, price, number_of_rooms):\n",
        "        super().__init__(address, price)\n",
        "        self.number_of_rooms = number_of_rooms\n",
        "\n",
        "# Example usage:\n",
        "mansion = Mansion(\"123 Mansion St.\", 1000000, 10)\n",
        "print(mansion.address)\n",
        "print(mansion.price)\n",
        "print(mansion.number_of_rooms)"
      ],
      "metadata": {
        "colab": {
          "base_uri": "https://localhost:8080/"
        },
        "id": "viB9-iRYXqYL",
        "outputId": "adedf53e-bca1-4943-f77f-d41f98c7f713"
      },
      "execution_count": 22,
      "outputs": [
        {
          "output_type": "stream",
          "name": "stdout",
          "text": [
            "123 Mansion St.\n",
            "1000000\n",
            "10\n"
          ]
        }
      ]
    }
  ]
}