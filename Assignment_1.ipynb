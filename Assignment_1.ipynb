{
  "nbformat": 4,
  "nbformat_minor": 0,
  "metadata": {
    "colab": {
      "provenance": [],
      "toc_visible": true
    },
    "kernelspec": {
      "name": "python3",
      "display_name": "Python 3"
    },
    "language_info": {
      "name": "python"
    }
  },
  "cells": [
    {
      "cell_type": "markdown",
      "source": [
        "Python Basics **Questions**"
      ],
      "metadata": {
        "id": "9yKApVEf7VUU"
      }
    },
    {
      "cell_type": "code",
      "execution_count": null,
      "metadata": {
        "id": "Kg6gmnaQuWKK"
      },
      "outputs": [],
      "source": []
    },
    {
      "cell_type": "markdown",
      "source": [
        "1 What is Python, and why is it popular\n",
        "\n",
        ":- Python is a high-level, interpreted programming language known for its simplicity and readability, making it easy to learn and use. It is popular due to its versatility, allowing developers to work on web development, data analysis, artificial intelligence, automation, and more. Python boasts a vast collection of libraries and frameworks, enabling quick implementation of complex tasks. Its active community provides extensive support, tutorials, and resources for beginners and professionals alike. Additionally, Python's cross-platform compatibility ensures it works seamlessly on different operating systems."
      ],
      "metadata": {
        "id": "p734z5CSuqrJ"
      }
    },
    {
      "cell_type": "markdown",
      "source": [
        "2 What is an interpreter in Python\n",
        "\n",
        ":- An interpreter is a Python program that executes code line by line, converting it into machine-readable instructions without compilation. It bridges human-readable Python code with the computer's hardware, performs syntax checks, executes code, and provides immediate feedback, making Python a dynamically-typed and interactive language. CPython is the default interpreter, but PyPy and Jython also exist."
      ],
      "metadata": {
        "id": "pDdBCTudvXu0"
      }
    },
    {
      "cell_type": "markdown",
      "source": [
        "3 What are pre-defined keywords in Python\n",
        "\n",
        ":- Pre-defined keywords in Python are special words that have specific meanings and are built into the language. You cannot use them as variable or function names. They help define Python's structure and rules. Some examples are:\n",
        "\n",
        "\n",
        "Control flow: if, else, for, while\n",
        "\n",
        "Functions: def, return, lambda\n",
        "\n",
        "Logical: True, False, and, or, not\n",
        "\n",
        "Error handling: try, except, finally\n"
      ],
      "metadata": {
        "id": "UrnJXgE9vvQm"
      }
    },
    {
      "cell_type": "markdown",
      "source": [
        "4 Can keywords be used as variable names\n",
        "\n",
        ":- No, keywords cannot be used as variable names in Python. They are reserved words with predefined meanings and roles in the language, so using them as variable names will result in a syntax error."
      ],
      "metadata": {
        "id": "nPgtgZ490JBX"
      }
    },
    {
      "cell_type": "markdown",
      "source": [
        "5  What is mutability in Python\n",
        "\n",
        ":- Mutability in Python refers to whether an object’s state (its data or value) can be changed after it is created.\n"
      ],
      "metadata": {
        "id": "dXM2r7ou0Wzl"
      }
    },
    {
      "cell_type": "code",
      "source": [
        "#Example code:\n",
        "\n",
        "my_list = [1, 2, 3]\n",
        "my_list[0] = 10  # Changing an element\n",
        "print(my_list)"
      ],
      "metadata": {
        "colab": {
          "base_uri": "https://localhost:8080/"
        },
        "id": "edNqv0Ih00uK",
        "outputId": "56c0e85e-2d95-4b52-ca0b-9807110e9590"
      },
      "execution_count": 2,
      "outputs": [
        {
          "output_type": "stream",
          "name": "stdout",
          "text": [
            "[10, 2, 3]\n"
          ]
        }
      ]
    },
    {
      "cell_type": "markdown",
      "source": [
        "6 Why are lists mutable, but tuples are immutable\n",
        "\n",
        ":- Lists are Mutable:\n",
        "\n",
        "Reason: Lists are designed to be dynamic and flexible, allowing frequent updates, such as adding, removing, or modifying elements.\n",
        "\n",
        "Usage: Suitable for scenarios where the data needs to change during program execution.\n",
        "\n",
        "\n",
        "\n",
        "\n",
        " Tuples are Immutable:\n",
        "\n",
        "Reason: Tuples are designed to represent fixed collections of items, ensuring the data remains constant once defined.\n",
        "\n",
        "\n",
        "Efficiency: Being immutable makes tuples faster and safer for use as keys in dictionaries or elements of sets, which require hashable (unchangeable) objects.\n",
        "\n",
        "\n",
        "Usage: Suitable for storing data that should not change, such as coordinates or configurations."
      ],
      "metadata": {
        "id": "RHvF3wk91CHU"
      }
    },
    {
      "cell_type": "markdown",
      "source": [
        "7  What is the difference between “==” and “is” operators in Python\n",
        "\n",
        ":-\n",
        " 1 == (Equality Operator):\n",
        "\n",
        "Purpose: Compares the values of two objects to check if they are equal.\n",
        "\n",
        "Usage: Use == to see if two objects have the same content, regardless of whether they are the same instance in memory.\n",
        "\n",
        "\n",
        "\n",
        "2  is (Identity Operator):\n",
        "\n",
        "Purpose: Checks if two objects refer to the same memory location (i.e., they are the same instance).\n",
        "\n",
        "Usage: Use is to verify object identity, not equality of values."
      ],
      "metadata": {
        "id": "ZDDMH42r18Dn"
      }
    },
    {
      "cell_type": "markdown",
      "source": [
        "8 What are logical operators in Python\n",
        "\n",
        "\n",
        ":- Logical operators in Python are used to combine conditional statements and perform logical operations. They return a Boolean value (True or False) based on the conditions.\n",
        "\n"
      ],
      "metadata": {
        "id": "OXpCu9rY13MS"
      }
    },
    {
      "cell_type": "markdown",
      "source": [
        " 9 What is type casting in Python\n",
        "\n",
        " :- Type casting in Python is the process of converting one data type into another. It allows you to explicitly change a variable’s type to perform operations that require specific data types.\n",
        "\n",
        " Types of Type Casting:\n",
        "\n",
        "1 Implicit Type Casting:\n",
        "Python automatically converts one data type to another during an operation if no data loss occurs.\n",
        "\n",
        "\n",
        "2 Explicit Type Casting: manually convert a variable to a specific type using built-in functions like int(), float(), str(), etc.\n",
        "\n",
        "\n",
        "\"Common Type Casting Functions\"\n",
        "\n",
        "int(): Converts to integer\n",
        "\n",
        "float(): Converts to float\n",
        "\n",
        "str(): Converts to string\n",
        "\n",
        "list(): Converts to list\n",
        "\n",
        "tuple(): Converts to tuple\n",
        "\n"
      ],
      "metadata": {
        "id": "5tJM78TY2gxm"
      }
    },
    {
      "cell_type": "markdown",
      "source": [
        "10 What is the difference between implicit and explicit type **casting**\n",
        "\n",
        ":-\n",
        "1. Implicit Type Casting:\n",
        "\n",
        "Performed by Python automatically when it is safe to convert data types without losing information.\n",
        "\n",
        "No manual intervention is needed by the programmer.\n",
        "\n",
        "Typically happens with numeric types where a smaller type (e.g., int) is converted to a larger type (e.g., float) to avoid data loss.\n",
        "\n",
        "\n",
        "2. Explicit Type Casting:\n",
        "\n",
        "Performed manually by the programmer using type conversion functions like int(), float(), str(), etc.\n",
        "\n",
        "Used when you need to forcefully change a data type.\n",
        "\n",
        "Necessary when automatic conversion doesn’t occur or isn’t safe."
      ],
      "metadata": {
        "id": "BDOq-EUu2qJP"
      }
    },
    {
      "cell_type": "markdown",
      "source": [
        "11 What is the purpose of conditional statements in Python\n",
        "\n",
        ":- Conditional statements in Python are used to execute code based on whether a specific condition is true or false. They allow programs to make decisions and perform different actions depending on the input or situation.\n",
        "\n",
        "\n",
        "Purpose of Conditional Statements:\n",
        "Control the flow of execution: Execute certain blocks of code only when specific conditions are met.\n",
        "\n",
        "Implement decision-making logic: Enable programs to behave differently based on varying inputs or states.\n",
        "\n",
        "Enhance flexibility: Make programs more dynamic and responsive to different scenarios."
      ],
      "metadata": {
        "id": "a6iWZ9SD4jfl"
      }
    },
    {
      "cell_type": "markdown",
      "source": [
        "12 How does the elif statement work\n",
        "\n",
        ":- The elif statement in Python is a \"else if\" statement used to check multiple conditions sequentially. It allows for testing multiple conditions one after another, with the first condition evaluating to True executing its associated code block. Python evaluates conditions from top to bottom, starting with the first True condition and moving to the next if it's False. This process continues until a True condition is found, or an else block is executed if no conditions are true."
      ],
      "metadata": {
        "id": "1IKMnS9E5FcJ"
      }
    },
    {
      "cell_type": "markdown",
      "source": [
        "13 What is the difference between for and while loops\n",
        "\n",
        ":-![Screenshot 2024-12-07 030815.png](data:image/png;base64,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)"
      ],
      "metadata": {
        "id": "y0woiUqz5pzF"
      }
    },
    {
      "cell_type": "markdown",
      "source": [
        "14 Describe a scenario where a while loop is more suitable than a for loop\n",
        "\n",
        ":- A while loop is more suitable than a for loop when the number of iterations is unknown beforehand and depends on a condition being met during runtime.\n",
        "\n",
        "Scenario: User Input Validation\n",
        "Imagine you are writing a program that asks a user to enter a valid password. The program keeps prompting the user until they enter the correct password. In this case, the number of attempts is not fixed, so a while loop is appropriate.\n",
        "\n"
      ],
      "metadata": {
        "id": "H2ID7dK86dBo"
      }
    },
    {
      "cell_type": "code",
      "source": [
        "correct_password = \"python123\"\n",
        "user_input = \"\"\n",
        "\n",
        "while user_input != correct_password:  # Condition to keep looping\n",
        "    user_input = input(\"Enter your password: \")\n",
        "    if user_input == correct_password:\n",
        "        print(\"Access granted!\")\n",
        "    else:\n",
        "        print(\"Incorrect password. Try again.\")\n"
      ],
      "metadata": {
        "colab": {
          "base_uri": "https://localhost:8080/"
        },
        "id": "gToQg39T6wl8",
        "outputId": "8ce66d2d-a5b2-4ecd-ee1d-1d3b85c76d02"
      },
      "execution_count": 3,
      "outputs": [
        {
          "output_type": "stream",
          "name": "stdout",
          "text": [
            "Enter your password: python123\n",
            "Access granted!\n"
          ]
        }
      ]
    },
    {
      "cell_type": "markdown",
      "source": [],
      "metadata": {
        "id": "p19vG_hI6TkZ"
      }
    },
    {
      "cell_type": "markdown",
      "source": [
        "Why Use while Here?\n",
        "\n",
        "The number of iterations (password attempts) is unknown because it depends on how long the user takes to enter the correct password.\n",
        "\n",
        "The loop continues until the condition (user_input != correct_password) is no longer true.\n",
        "\n",
        "Using a for loop in this scenario would not be ideal, as it requires a predefined number of iterations, which we don’t have in this case."
      ],
      "metadata": {
        "id": "odQ__9gD63hL"
      }
    },
    {
      "cell_type": "markdown",
      "source": [
        "**Practical Questions**"
      ],
      "metadata": {
        "id": "Xdn7LyAK7K3S"
      }
    },
    {
      "cell_type": "code",
      "source": [
        "#1. Python program to print \"Hello, World!\"\n",
        "\n",
        "print(\"Hello, World!\")"
      ],
      "metadata": {
        "colab": {
          "base_uri": "https://localhost:8080/"
        },
        "id": "P8AwWpcM7nKU",
        "outputId": "9dc8b73f-ca4e-448d-861e-639059cf8125"
      },
      "execution_count": 4,
      "outputs": [
        {
          "output_type": "stream",
          "name": "stdout",
          "text": [
            "Hello, World!\n"
          ]
        }
      ]
    },
    {
      "cell_type": "code",
      "source": [
        "#2. Python program to display your name and age\n",
        "\n",
        "name = \"aman upadhyay\"\n",
        "age = 23\n",
        "print(f\"My name is {name} and I am {age} years old.\")"
      ],
      "metadata": {
        "colab": {
          "base_uri": "https://localhost:8080/"
        },
        "id": "_s0TjTwp75XQ",
        "outputId": "0ac5989d-a74a-4060-c196-bed3143a99ea"
      },
      "execution_count": 6,
      "outputs": [
        {
          "output_type": "stream",
          "name": "stdout",
          "text": [
            "My name is aman upadhyay and I am 23 years old.\n"
          ]
        }
      ]
    },
    {
      "cell_type": "code",
      "source": [
        "#3. Print all pre-defined keywords in Python\n",
        "import keyword\n",
        "print(keyword.kwlist)"
      ],
      "metadata": {
        "colab": {
          "base_uri": "https://localhost:8080/"
        },
        "id": "wg5j1nhI8EGu",
        "outputId": "b6a32d8c-815e-4d33-ffcd-8eee4af00920"
      },
      "execution_count": 7,
      "outputs": [
        {
          "output_type": "stream",
          "name": "stdout",
          "text": [
            "['False', 'None', 'True', 'and', 'as', 'assert', 'async', 'await', 'break', 'class', 'continue', 'def', 'del', 'elif', 'else', 'except', 'finally', 'for', 'from', 'global', 'if', 'import', 'in', 'is', 'lambda', 'nonlocal', 'not', 'or', 'pass', 'raise', 'return', 'try', 'while', 'with', 'yield']\n"
          ]
        }
      ]
    },
    {
      "cell_type": "code",
      "source": [
        "#4. Check if a given word is a Python keyword\n",
        "import keyword\n",
        "word = input(\"Enter a word: \")\n",
        "if keyword.iskeyword(word):\n",
        "    print(f\"'{word}' is a Python keyword.\")\n",
        "else:\n",
        "    print(f\"'{word}' is not a Python keyword.\")\n"
      ],
      "metadata": {
        "colab": {
          "base_uri": "https://localhost:8080/"
        },
        "id": "Aq8GoFBA8QVX",
        "outputId": "19dc9f6b-0d97-41df-c840-3dbe2138ec3d"
      },
      "execution_count": 9,
      "outputs": [
        {
          "output_type": "stream",
          "name": "stdout",
          "text": [
            "Enter a word: true\n",
            "'true' is not a Python keyword.\n"
          ]
        }
      ]
    },
    {
      "cell_type": "code",
      "source": [
        "#5. Demonstrate list and tuple mutability\n",
        "# List: Mutable\n",
        "my_list = [1, 2, 3]\n",
        "my_list[0] = 10  # This works\n",
        "print(\"Modified list:\", my_list)\n",
        "\n",
        "# Tuple: Immutable\n",
        "my_tuple = (1, 2, 3)\n",
        "try:\n",
        "    my_tuple[0] = 10  # This will raise an error\n",
        "except TypeError as e:\n",
        "    print(\"Error modifying tuple:\", e)\n"
      ],
      "metadata": {
        "colab": {
          "base_uri": "https://localhost:8080/"
        },
        "id": "w8jhh-1k8gx0",
        "outputId": "fd798e73-9f4c-4543-9d13-f72ad32d1376"
      },
      "execution_count": 10,
      "outputs": [
        {
          "output_type": "stream",
          "name": "stdout",
          "text": [
            "Modified list: [10, 2, 3]\n",
            "Error modifying tuple: 'tuple' object does not support item assignment\n"
          ]
        }
      ]
    },
    {
      "cell_type": "code",
      "source": [
        "#6. Function demonstrating mutable and immutable arguments\n",
        "def modify_args(mutable, immutable):\n",
        "    mutable.append(100)  # Modifies the original list\n",
        "    immutable += 10  # Does not modify the original integer\n",
        "    print(\"Inside function - List:\", mutable)\n",
        "    print(\"Inside function - Integer:\", immutable)\n",
        "\n",
        "# Call function\n",
        "my_list = [1, 2, 3]\n",
        "my_int = 5\n",
        "modify_args(my_list, my_int)\n",
        "print(\"Outside function - List:\", my_list)\n",
        "print(\"Outside function - Integer:\", my_int)\n"
      ],
      "metadata": {
        "colab": {
          "base_uri": "https://localhost:8080/"
        },
        "id": "GvHO5suP8vW0",
        "outputId": "662b6ee2-504f-4c4f-e6b3-45bb5d1b6e39"
      },
      "execution_count": 11,
      "outputs": [
        {
          "output_type": "stream",
          "name": "stdout",
          "text": [
            "Inside function - List: [1, 2, 3, 100]\n",
            "Inside function - Integer: 15\n",
            "Outside function - List: [1, 2, 3, 100]\n",
            "Outside function - Integer: 5\n"
          ]
        }
      ]
    },
    {
      "cell_type": "code",
      "source": [
        "#7. Function demonstrating mutable and immutable arguments\n",
        "def modify_args(mutable, immutable):\n",
        "    mutable.append(100)  # Modifies the original list\n",
        "    immutable += 10  # Does not modify the original integer\n",
        "    print(\"Inside function - List:\", mutable)\n",
        "    print(\"Inside function - Integer:\", immutable)\n",
        "\n",
        "# Call function\n",
        "my_list = [1, 2, 3]\n",
        "my_int = 5\n",
        "modify_args(my_list, my_int)\n",
        "print(\"Outside function - List:\", my_list)\n",
        "print(\"Outside function - Integer:\", my_int)"
      ],
      "metadata": {
        "id": "l6xvZ4dB_haV"
      },
      "execution_count": null,
      "outputs": []
    },
    {
      "cell_type": "code",
      "source": [
        "#8. Program demonstrating logical operators\n",
        "\n",
        "a = 10\n",
        "b = 20\n",
        "c = 5\n",
        "\n",
        "print(a > c and b > c)  # True (both conditions are true)\n",
        "print(a < b or c > b)  # True (one condition is true)\n",
        "print(not (a > b))  # True (negates False)"
      ],
      "metadata": {
        "colab": {
          "base_uri": "https://localhost:8080/"
        },
        "id": "adg_gZPS9B0E",
        "outputId": "a99adfe4-e75b-4584-c5a8-3619d7ba99b3"
      },
      "execution_count": 17,
      "outputs": [
        {
          "output_type": "stream",
          "name": "stdout",
          "text": [
            "True\n",
            "True\n",
            "True\n"
          ]
        }
      ]
    },
    {
      "cell_type": "code",
      "source": [
        "#9. Convert user input to integer, float, and boolean\n",
        "user_input = input(\"Enter a value: \")\n",
        "int_val = int(user_input)\n",
        "float_val = float(user_input)\n",
        "bool_val = bool(user_input)\n",
        "\n",
        "print(\"Integer:\", int_val)\n",
        "print(\"Float:\", float_val)\n",
        "print(\"Boolean:\", bool_val)\n"
      ],
      "metadata": {
        "colab": {
          "base_uri": "https://localhost:8080/"
        },
        "id": "luy-8zov9Pel",
        "outputId": "cbf9b081-8d79-478f-b19e-a5dba3df3618"
      },
      "execution_count": 13,
      "outputs": [
        {
          "output_type": "stream",
          "name": "stdout",
          "text": [
            "Enter a value: 88\n",
            "Integer: 88\n",
            "Float: 88.0\n",
            "Boolean: True\n"
          ]
        }
      ]
    },
    {
      "cell_type": "code",
      "source": [
        "#10. Type casting with list elements\n",
        "my_list = [\"1\", \"2\", \"3\"]\n",
        "int_list = [int(x) for x in my_list]\n",
        "print(\"Original list:\", my_list)\n",
        "print(\"Converted list:\", int_list)\n"
      ],
      "metadata": {
        "colab": {
          "base_uri": "https://localhost:8080/"
        },
        "id": "XPxGWZZQ9boY",
        "outputId": "093d181b-74b0-4b00-88f4-5a1520e7d8ed"
      },
      "execution_count": 15,
      "outputs": [
        {
          "output_type": "stream",
          "name": "stdout",
          "text": [
            "Original list: ['1', '2', '3']\n",
            "Converted list: [1, 2, 3]\n"
          ]
        }
      ]
    },
    {
      "cell_type": "code",
      "source": [
        "#11. Check if a number is positive, negative, or zero\n",
        "num = float(input(\"Enter a number: \"))\n",
        "if num > 0:\n",
        "    print(\"The number is positive.\")\n",
        "elif num < 0:\n",
        "    print(\"The number is negative.\")\n",
        "else:\n",
        "    print(\"The number is zero.\")\n"
      ],
      "metadata": {
        "colab": {
          "base_uri": "https://localhost:8080/"
        },
        "id": "FDQ2i5Zb9tyg",
        "outputId": "9917d982-9770-4cd0-dce7-68f8a0546442"
      },
      "execution_count": 16,
      "outputs": [
        {
          "output_type": "stream",
          "name": "stdout",
          "text": [
            "Enter a number: 28\n",
            "The number is positive.\n"
          ]
        }
      ]
    },
    {
      "cell_type": "code",
      "source": [
        "#12. For loop to print numbers from 1 to 100\n",
        "for i in range(1, 101):\n",
        "    print(i)\n"
      ],
      "metadata": {
        "colab": {
          "base_uri": "https://localhost:8080/"
        },
        "id": "eaoJfxSa-gPU",
        "outputId": "5ab1ffbf-cfbc-4f04-fbdf-8d259652baad"
      },
      "execution_count": 18,
      "outputs": [
        {
          "output_type": "stream",
          "name": "stdout",
          "text": [
            "1\n",
            "2\n",
            "3\n",
            "4\n",
            "5\n",
            "6\n",
            "7\n",
            "8\n",
            "9\n",
            "10\n",
            "11\n",
            "12\n",
            "13\n",
            "14\n",
            "15\n",
            "16\n",
            "17\n",
            "18\n",
            "19\n",
            "20\n",
            "21\n",
            "22\n",
            "23\n",
            "24\n",
            "25\n",
            "26\n",
            "27\n",
            "28\n",
            "29\n",
            "30\n",
            "31\n",
            "32\n",
            "33\n",
            "34\n",
            "35\n",
            "36\n",
            "37\n",
            "38\n",
            "39\n",
            "40\n",
            "41\n",
            "42\n",
            "43\n",
            "44\n",
            "45\n",
            "46\n",
            "47\n",
            "48\n",
            "49\n",
            "50\n",
            "51\n",
            "52\n",
            "53\n",
            "54\n",
            "55\n",
            "56\n",
            "57\n",
            "58\n",
            "59\n",
            "60\n",
            "61\n",
            "62\n",
            "63\n",
            "64\n",
            "65\n",
            "66\n",
            "67\n",
            "68\n",
            "69\n",
            "70\n",
            "71\n",
            "72\n",
            "73\n",
            "74\n",
            "75\n",
            "76\n",
            "77\n",
            "78\n",
            "79\n",
            "80\n",
            "81\n",
            "82\n",
            "83\n",
            "84\n",
            "85\n",
            "86\n",
            "87\n",
            "88\n",
            "89\n",
            "90\n",
            "91\n",
            "92\n",
            "93\n",
            "94\n",
            "95\n",
            "96\n",
            "97\n",
            "98\n",
            "99\n",
            "100\n"
          ]
        }
      ]
    },
    {
      "cell_type": "code",
      "source": [
        "#13. Sum of all even numbers between 1 and 500\n",
        "\n",
        "sum_even = sum(i for i in range(1, 501) if i % 2 == 0)\n",
        "print(\"Sum of even numbers between 1 and 500:\", sum_even)"
      ],
      "metadata": {
        "colab": {
          "base_uri": "https://localhost:8080/"
        },
        "id": "n0E8o4tH-lo_",
        "outputId": "646e3c3d-ec74-4e72-8887-cda8cbee8693"
      },
      "execution_count": 19,
      "outputs": [
        {
          "output_type": "stream",
          "name": "stdout",
          "text": [
            "Sum of even numbers between 1 and 500: 62750\n"
          ]
        }
      ]
    },
    {
      "cell_type": "code",
      "source": [
        "#14. Reverse a string using a while loop\n",
        "text = input(\"Enter a string: \")\n",
        "reversed_text = \"\"\n",
        "i = len(text) - 1\n",
        "\n",
        "while i >= 0:\n",
        "    reversed_text += text[i]\n",
        "    i -= 1\n",
        "\n",
        "print(\"Reversed string:\", reversed_text)\n"
      ],
      "metadata": {
        "colab": {
          "base_uri": "https://localhost:8080/"
        },
        "id": "N-cpJena-qtp",
        "outputId": "726fe7ff-97b7-4d38-cb45-04ad48b75a78"
      },
      "execution_count": 20,
      "outputs": [
        {
          "output_type": "stream",
          "name": "stdout",
          "text": [
            "Enter a string: \"Hello, World!\"\n",
            "Reversed string: \"!dlroW ,olleH\"\n"
          ]
        }
      ]
    },
    {
      "cell_type": "code",
      "source": [
        "#15. Factorial of a number using a while loop\n",
        "\n",
        "num = int(input(\"Enter a number: \"))\n",
        "factorial = 1\n",
        "i = num\n",
        "\n",
        "while i > 0:\n",
        "    factorial *= i\n",
        "    i -= 1\n",
        "\n",
        "print(f\"The factorial of {num} is {factorial}.\")"
      ],
      "metadata": {
        "colab": {
          "base_uri": "https://localhost:8080/"
        },
        "id": "WLpMJsE2-x2_",
        "outputId": "ece5c4ee-113a-4146-d98f-64b32b96ec32"
      },
      "execution_count": 21,
      "outputs": [
        {
          "output_type": "stream",
          "name": "stdout",
          "text": [
            "Enter a number: 9\n",
            "The factorial of 9 is 362880.\n"
          ]
        }
      ]
    }
  ]
}