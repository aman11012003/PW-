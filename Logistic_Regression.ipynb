{
  "nbformat": 4,
  "nbformat_minor": 0,
  "metadata": {
    "colab": {
      "provenance": []
    },
    "kernelspec": {
      "name": "python3",
      "display_name": "Python 3"
    },
    "language_info": {
      "name": "python"
    }
  },
  "cells": [
    {
      "cell_type": "code",
      "execution_count": null,
      "metadata": {
        "id": "2CAeGLqtuvRs"
      },
      "outputs": [],
      "source": []
    },
    {
      "cell_type": "markdown",
      "source": [
        "###Theoretical\n",
        "\n",
        "### **1. What is Logistic Regression, and how does it differ from Linear Regression?**  \n",
        "Logistic Regression is a classification algorithm used to predict binary or multi-class outcomes, while Linear Regression is used for continuous numerical predictions. The key difference is that Logistic Regression applies the **sigmoid function** to transform outputs into probabilities (0 to 1), whereas Linear Regression provides a direct numerical output.\n",
        "\n",
        "---\n",
        "\n",
        "### **2. What is the mathematical equation of Logistic Regression?**  \n",
        "For binary classification:  \n",
        "\n",
        "\\[\n",
        "P(Y=1|X) = \\frac{1}{1 + e^{-(\\beta_0 + \\beta_1X_1 + \\beta_2X_2 + ... + \\beta_nX_n)}}\n",
        "\\]\n",
        "\n",
        "or, in terms of log-odds:\n",
        "\n",
        "\\[\n",
        "\\log \\left( \\frac{P}{1-P} \\right) = \\beta_0 + \\beta_1X_1 + ... + \\beta_nX_n\n",
        "\\]\n",
        "\n",
        "---\n",
        "\n",
        "### **3. Why do we use the Sigmoid function in Logistic Regression?**  \n",
        "The **sigmoid function** ensures that outputs are mapped to the range (0,1), making them interpretable as probabilities. This allows for classification based on a probability threshold (e.g., 0.5).\n",
        "\n",
        "\\[\n",
        "\\sigma(z) = \\frac{1}{1 + e^{-z}}\n",
        "\\]\n",
        "\n",
        "---\n",
        "\n",
        "### **4. What is the cost function of Logistic Regression?**  \n",
        "Instead of Mean Squared Error (MSE), Logistic Regression uses **log loss (binary cross-entropy):**\n",
        "\n",
        "\\[\n",
        "J(\\theta) = -\\frac{1}{m} \\sum_{i=1}^{m} \\left[ y_i \\log(h_\\theta(x_i)) + (1 - y_i) \\log(1 - h_\\theta(x_i)) \\right]\n",
        "\\]\n",
        "\n",
        "where \\( h_\\theta(x) \\) is the sigmoid function.\n",
        "\n",
        "---\n",
        "\n",
        "### **5. What is Regularization in Logistic Regression? Why is it needed?**  \n",
        "Regularization prevents overfitting by adding a penalty to large coefficients. It ensures the model generalizes well to unseen data.\n",
        "\n",
        "- **L1 Regularization (Lasso)**: Shrinks some coefficients to **zero**, selecting important features.\n",
        "- **L2 Regularization (Ridge)**: Shrinks all coefficients uniformly.\n",
        "- **Elastic Net**: A mix of both.\n",
        "\n",
        "---\n",
        "\n",
        "### **6. Explain the difference between Lasso, Ridge, and Elastic Net regression.**  \n",
        "- **Lasso (L1)**: Forces some coefficients to be exactly zero (feature selection).\n",
        "- **Ridge (L2)**: Shrinks all coefficients but does not eliminate them.\n",
        "- **Elastic Net**: A combination of Lasso and Ridge, balancing sparsity and smoothness.\n",
        "\n",
        "---\n",
        "\n",
        "### **7. When should we use Elastic Net instead of Lasso or Ridge?**  \n",
        "- When **feature selection** is needed but Lasso alone is unstable (e.g., correlated features).\n",
        "- When there's **multicollinearity** in the dataset.\n",
        "- When we need a **balance between sparsity (Lasso) and generalization (Ridge).**\n",
        "\n",
        "---\n",
        "\n",
        "### **8. What is the impact of the regularization parameter (λ) in Logistic Regression?**  \n",
        "- **High λ (strong regularization):** Reduces overfitting, shrinks coefficients, may underfit.\n",
        "- **Low λ (weak regularization):** Keeps coefficients large, increases risk of overfitting.\n",
        "\n",
        "---\n",
        "\n",
        "### **9. What are the key assumptions of Logistic Regression?**  \n",
        "1. **Linear relationship between independent variables and log-odds**.\n",
        "2. **No multicollinearity** (independent variables should not be highly correlated).\n",
        "3. **Large sample size** (ensures stable estimates).\n",
        "4. **Independent observations** (no autocorrelation).\n",
        "5. **Absence of extreme outliers**.\n",
        "\n",
        "---\n",
        "\n",
        "### **10. What are some alternatives to Logistic Regression for classification tasks?**  \n",
        "- **Support Vector Machines (SVM)**\n",
        "- **Decision Trees**\n",
        "- **Random Forest**\n",
        "- **Gradient Boosting (XGBoost, LightGBM, CatBoost)**\n",
        "- **Neural Networks**\n",
        "- **Naïve Bayes**\n",
        "\n",
        "---\n",
        "\n",
        "### **11. What are Classification Evaluation Metrics?**  \n",
        "- **Accuracy**: \\( \\frac{TP + TN}{TP + TN + FP + FN} \\)\n",
        "- **Precision**: \\( \\frac{TP}{TP + FP} \\)\n",
        "- **Recall (Sensitivity)**: \\( \\frac{TP}{TP + FN} \\)\n",
        "- **F1-score**: Harmonic mean of precision & recall.\n",
        "- **ROC-AUC Score**: Evaluates model discrimination.\n",
        "\n",
        "---\n",
        "\n",
        "### **12. How does class imbalance affect Logistic Regression?**  \n",
        "- Leads to a model biased toward the majority class.\n",
        "- Metrics like accuracy become misleading.\n",
        "- Solution: Use **weighted loss function, resampling (oversampling/undersampling), SMOTE, or balanced class weights.**\n",
        "\n",
        "---\n",
        "\n",
        "### **13. What is Hyperparameter Tuning in Logistic Regression?**  \n",
        "Hyperparameters like **regularization strength (λ), solver choice, and penalty type** can be optimized using **Grid Search or Random Search**.\n",
        "\n",
        "---\n",
        "\n",
        "### **14. What are different solvers in Logistic Regression? Which one should be used?**  \n",
        "- **liblinear**: Good for small datasets and L1 regularization.\n",
        "- **lbfgs**: Default choice, works well for L2 regularization.\n",
        "- **saga**: Works well with L1, L2, and Elastic Net on large datasets.\n",
        "- **newton-cg**: Used for L2-regularized problems.\n",
        "\n",
        "---\n",
        "\n",
        "### **15. How is Logistic Regression extended for multiclass classification?**  \n",
        "- **One-vs-Rest (OvR)**: Fits multiple binary classifiers.\n",
        "- **Softmax Regression (Multinomial LR)**: Uses the softmax function to predict probabilities for multiple classes.\n",
        "\n",
        "---\n",
        "\n",
        "### **16. What are the advantages and disadvantages of Logistic Regression?**  \n",
        "✅ **Advantages**:  \n",
        "- Simple and interpretable  \n",
        "- Computationally efficient  \n",
        "- Works well with linearly separable data  \n",
        "\n",
        "❌ **Disadvantages**:  \n",
        "- Assumes a **linear decision boundary**  \n",
        "- **Sensitive to outliers**  \n",
        "- **Poor performance on complex data**  \n",
        "\n",
        "---\n",
        "\n",
        "### **17. What are some use cases of Logistic Regression?**  \n",
        "- **Medical diagnosis** (e.g., predicting disease presence)  \n",
        "- **Credit scoring** (loan approval)  \n",
        "- **Spam detection**  \n",
        "- **Customer churn prediction**  \n",
        "- **Fraud detection**  \n",
        "\n",
        "---\n",
        "\n",
        "### **18. What is the difference between Softmax Regression and Logistic Regression?**  \n",
        "- **Logistic Regression**: Used for **binary classification**, applies the **sigmoid function**.\n",
        "- **Softmax Regression**: Used for **multiclass classification**, applies the **softmax function**:\n",
        "\n",
        "\\[\n",
        "P(y = k | X) = \\frac{e^{\\beta_k X}}{\\sum_{j=1}^{K} e^{\\beta_j X}}\n",
        "\\]\n",
        "\n",
        "---\n",
        "\n",
        "### **19. How do we choose between One-vs-Rest (OvR) and Softmax for multiclass classification?**  \n",
        "- **OvR**: Works well for **imbalanced data**, interpretable, computationally efficient.  \n",
        "- **Softmax**: Preferred when classes are **equally important** and for **probabilistic predictions**.\n",
        "\n",
        "---\n",
        "\n",
        "### **20. How do we interpret coefficients in Logistic Regression?**  \n",
        "The coefficient \\( \\beta_i \\) represents the **log-odds ratio change** for a one-unit increase in \\( X_i \\):\n",
        "\n",
        "\\[\n",
        "e^{\\beta_i}\n",
        "\\]\n",
        "\n",
        "- If \\( e^{\\beta_i} > 1 \\), \\( X_i \\) **increases** the probability of \\( Y=1 \\).\n",
        "- If \\( e^{\\beta_i} < 1 \\), \\( X_i \\) **decreases** the probability of \\( Y=1 \\).\n",
        "\n"
      ],
      "metadata": {
        "id": "e-Y15zNcuw-Z"
      }
    },
    {
      "cell_type": "markdown",
      "source": [
        "###Practical"
      ],
      "metadata": {
        "id": "szdClt1Cu83j"
      }
    },
    {
      "cell_type": "code",
      "source": [
        "#Basic Logistic Regression (Binary Classification)\n",
        "from sklearn.model_selection import train_test_split\n",
        "from sklearn.linear_model import LogisticRegression\n",
        "from sklearn.datasets import load_iris\n",
        "from sklearn.metrics import accuracy_score\n",
        "\n",
        "# Load dataset (Iris dataset for example)\n",
        "data = load_iris()\n",
        "X, y = data.data, data.target\n",
        "\n",
        "# Convert it to a binary classification problem\n",
        "y = (y == 2).astype(int)  # Making it a binary problem (Setosa vs Non-Setosa)\n",
        "\n",
        "# Split into train and test sets\n",
        "X_train, X_test, y_train, y_test = train_test_split(X, y, test_size=0.2, random_state=42)\n",
        "\n",
        "# Train Logistic Regression model\n",
        "model = LogisticRegression()\n",
        "model.fit(X_train, y_train)\n",
        "\n",
        "# Predict and calculate accuracy\n",
        "y_pred = model.predict(X_test)\n",
        "accuracy = accuracy_score(y_test, y_pred)\n",
        "\n",
        "print(f\"Model Accuracy: {accuracy:.4f}\")\n"
      ],
      "metadata": {
        "colab": {
          "base_uri": "https://localhost:8080/"
        },
        "id": "cPHCBWuXu69M",
        "outputId": "88149f17-0d3f-4f92-bc63-9865b4a20c98"
      },
      "execution_count": 1,
      "outputs": [
        {
          "output_type": "stream",
          "name": "stdout",
          "text": [
            "Model Accuracy: 1.0000\n"
          ]
        }
      ]
    },
    {
      "cell_type": "code",
      "source": [
        "#Logistic Regression with L1 Regularization (Lasso)\n",
        "from sklearn.linear_model import LogisticRegression\n",
        "\n",
        "# Train Logistic Regression with L1 regularization\n",
        "lasso_model = LogisticRegression(penalty='l1', solver='liblinear')  # liblinear supports L1\n",
        "lasso_model.fit(X_train, y_train)\n",
        "\n",
        "# Predict and print accuracy\n",
        "y_pred_lasso = lasso_model.predict(X_test)\n",
        "accuracy_lasso = accuracy_score(y_test, y_pred_lasso)\n",
        "\n",
        "print(f\"L1 (Lasso) Regularized Model Accuracy: {accuracy_lasso:.4f}\")\n"
      ],
      "metadata": {
        "colab": {
          "base_uri": "https://localhost:8080/"
        },
        "id": "fkaNOdPYvUBn",
        "outputId": "4104f92e-0c7d-42a7-b642-5ac116d9be52"
      },
      "execution_count": 2,
      "outputs": [
        {
          "output_type": "stream",
          "name": "stdout",
          "text": [
            "L1 (Lasso) Regularized Model Accuracy: 0.9333\n"
          ]
        }
      ]
    },
    {
      "cell_type": "code",
      "source": [
        "#Logistic Regression with L2 Regularization (Ridge)\n",
        "from sklearn.linear_model import LogisticRegression\n",
        "\n",
        "# Train Logistic Regression with L2 regularization (default)\n",
        "ridge_model = LogisticRegression(penalty='l2', solver='lbfgs')  # lbfgs supports L2\n",
        "ridge_model.fit(X_train, y_train)\n",
        "\n",
        "# Predict and print accuracy\n",
        "y_pred_ridge = ridge_model.predict(X_test)\n",
        "accuracy_ridge = accuracy_score(y_test, y_pred_ridge)\n",
        "\n",
        "# Print coefficients\n",
        "print(f\"L2 (Ridge) Regularized Model Accuracy: {accuracy_ridge:.4f}\")\n",
        "print(f\"Coefficients: {ridge_model.coef_}\")\n"
      ],
      "metadata": {
        "colab": {
          "base_uri": "https://localhost:8080/"
        },
        "id": "KNfSjeQkvZZM",
        "outputId": "e95485d2-83c0-4362-9475-45febb00984d"
      },
      "execution_count": 3,
      "outputs": [
        {
          "output_type": "stream",
          "name": "stdout",
          "text": [
            "L2 (Ridge) Regularized Model Accuracy: 1.0000\n",
            "Coefficients: [[-0.38904645 -0.62147609  2.7762982   2.09067085]]\n"
          ]
        }
      ]
    },
    {
      "cell_type": "code",
      "source": [
        "# Logistic Regression with Elastic Net Regularization\n",
        "from sklearn.linear_model import LogisticRegression\n",
        "\n",
        "# Train Logistic Regression with Elastic Net regularization\n",
        "elastic_net_model = LogisticRegression(penalty='elasticnet', solver='saga', l1_ratio=0.5)  # saga supports elastic net\n",
        "elastic_net_model.fit(X_train, y_train)\n",
        "\n",
        "# Predict and print accuracy\n",
        "y_pred_elastic = elastic_net_model.predict(X_test)\n",
        "accuracy_elastic = accuracy_score(y_test, y_pred_elastic)\n",
        "\n",
        "print(f\"Elastic Net Regularized Model Accuracy: {accuracy_elastic:.4f}\")\n"
      ],
      "metadata": {
        "colab": {
          "base_uri": "https://localhost:8080/"
        },
        "id": "viVZrzozvfJ7",
        "outputId": "8275a538-5f38-4305-9839-667c384e6c51"
      },
      "execution_count": 4,
      "outputs": [
        {
          "output_type": "stream",
          "name": "stdout",
          "text": [
            "Elastic Net Regularized Model Accuracy: 1.0000\n"
          ]
        },
        {
          "output_type": "stream",
          "name": "stderr",
          "text": [
            "/usr/local/lib/python3.11/dist-packages/sklearn/linear_model/_sag.py:348: ConvergenceWarning: The max_iter was reached which means the coef_ did not converge\n",
            "  warnings.warn(\n"
          ]
        }
      ]
    },
    {
      "cell_type": "code",
      "source": [
        "#Logistic Regression for Multiclass Classification (One-vs-Rest)\n",
        "# Train Logistic Regression for multiclass classification (OvR)\n",
        "multi_class_model = LogisticRegression(multi_class='ovr', solver='lbfgs')  # OvR for multiclass\n",
        "multi_class_model.fit(X_train, y_train)\n",
        "\n",
        "# Predict and print accuracy\n",
        "y_pred_multi = multi_class_model.predict(X_test)\n",
        "accuracy_multi = accuracy_score(y_test, y_pred_multi)\n",
        "\n",
        "print(f\"Multiclass (One-vs-Rest) Logistic Regression Accuracy: {accuracy_multi:.4f}\")\n"
      ],
      "metadata": {
        "colab": {
          "base_uri": "https://localhost:8080/"
        },
        "id": "OB6dvBjyvnIv",
        "outputId": "9e2acb0e-ec9e-43be-bf1f-2c7c7864f343"
      },
      "execution_count": 5,
      "outputs": [
        {
          "output_type": "stream",
          "name": "stdout",
          "text": [
            "Multiclass (One-vs-Rest) Logistic Regression Accuracy: 1.0000\n"
          ]
        },
        {
          "output_type": "stream",
          "name": "stderr",
          "text": [
            "/usr/local/lib/python3.11/dist-packages/sklearn/linear_model/_logistic.py:1256: FutureWarning: 'multi_class' was deprecated in version 1.5 and will be removed in 1.7. Use OneVsRestClassifier(LogisticRegression(..)) instead. Leave it to its default value to avoid this warning.\n",
            "  warnings.warn(\n"
          ]
        }
      ]
    },
    {
      "cell_type": "code",
      "source": [
        "#Logistic Regression with Hyperparameter Tuning using GridSearchCV\n",
        "from sklearn.model_selection import GridSearchCV\n",
        "from sklearn.linear_model import LogisticRegression\n",
        "\n",
        "# Define parameter grid\n",
        "param_grid = {\n",
        "    'C': [0.01, 0.1, 1, 10, 100],  # Regularization strength\n",
        "    'penalty': ['l1', 'l2'],  # Regularization type\n",
        "}\n",
        "\n",
        "# Initialize Logistic Regression model\n",
        "log_reg = LogisticRegression(solver='liblinear')  # 'liblinear' supports both L1 and L2\n",
        "\n",
        "# Perform Grid Search with Cross-Validation\n",
        "grid_search = GridSearchCV(log_reg, param_grid, cv=5, scoring='accuracy', n_jobs=-1)\n",
        "grid_search.fit(X_train, y_train)\n",
        "\n",
        "# Print the best parameters and accuracy\n",
        "print(f\"Best Parameters: {grid_search.best_params_}\")\n",
        "print(f\"Best Cross-Validation Accuracy: {grid_search.best_score_:.4f}\")\n"
      ],
      "metadata": {
        "colab": {
          "base_uri": "https://localhost:8080/"
        },
        "id": "LP-tFyrjvuba",
        "outputId": "8218401b-b490-438a-d51b-032f2aa4ffd6"
      },
      "execution_count": 6,
      "outputs": [
        {
          "output_type": "stream",
          "name": "stdout",
          "text": [
            "Best Parameters: {'C': 0.1, 'penalty': 'l2'}\n",
            "Best Cross-Validation Accuracy: 0.9667\n"
          ]
        }
      ]
    },
    {
      "cell_type": "code",
      "source": [
        "# Evaluating Logistic Regression using Stratified K-Fold Cross-Validation\n",
        "from sklearn.model_selection import StratifiedKFold, cross_val_score\n",
        "\n",
        "# Define Stratified K-Fold cross-validator\n",
        "skf = StratifiedKFold(n_splits=5, shuffle=True, random_state=42)\n",
        "\n",
        "# Initialize Logistic Regression\n",
        "log_reg = LogisticRegression()\n",
        "\n",
        "# Perform cross-validation\n",
        "cv_scores = cross_val_score(log_reg, X, y, cv=skf, scoring='accuracy')\n",
        "\n",
        "# Print average accuracy\n",
        "print(f\"Cross-Validation Accuracies: {cv_scores}\")\n",
        "print(f\"Average Accuracy: {cv_scores.mean():.4f}\")\n"
      ],
      "metadata": {
        "colab": {
          "base_uri": "https://localhost:8080/"
        },
        "id": "wBKGkzj7v4Y8",
        "outputId": "23fb9ba2-dfa2-4fdd-d70c-1c8321d8cfa4"
      },
      "execution_count": 7,
      "outputs": [
        {
          "output_type": "stream",
          "name": "stdout",
          "text": [
            "Cross-Validation Accuracies: [1.         0.9        1.         0.96666667 0.96666667]\n",
            "Average Accuracy: 0.9667\n"
          ]
        }
      ]
    },
    {
      "cell_type": "code",
      "source": [
        "# Load Dataset from CSV and Apply Logistic Regression\n",
        "import pandas as pd\n",
        "from sklearn.model_selection import train_test_split\n",
        "from sklearn.linear_model import LogisticRegression\n",
        "from sklearn.metrics import accuracy_score\n",
        "\n",
        "# Load dataset from CSV\n",
        "# If data.csv is in a different directory, provide the full path, or\n",
        "# Upload the file to colab\n",
        "try:\n",
        "  df = pd.read_csv('data.csv')  # Try to read data.csv in the current directory\n",
        "except FileNotFoundError:\n",
        "  from google.colab import files  # If not found, import files from google.colab\n",
        "  uploaded = files.upload()  # Prompt user to upload the file\n",
        "  df = pd.read_csv(next(iter(uploaded)))  # Read the uploaded file\n",
        "\n",
        "# Assume the last column is the target variable\n",
        "X = df.iloc[:, :-1]  # Features (all columns except last)\n",
        "y = df.iloc[:, -1]   # Target variable (last column)\n",
        "\n",
        "# Split into train and test sets\n",
        "X_train, X_test, y_train, y_test = train_test_split(X, y, test_size=0.2, random_state=42)\n",
        "\n",
        "# Train Logistic Regression model\n",
        "model = LogisticRegression()\n",
        "model.fit(X_train, y_train)\n",
        "\n",
        "# Predict and evaluate accuracy\n",
        "y_pred = model.predict(X_test)\n",
        "accuracy = accuracy_score(y_test, y_pred)\n",
        "\n",
        "print(f\"Model Accuracy: {accuracy:.4f}\")\n"
      ],
      "metadata": {
        "id": "nuU_0x4jxRDZ"
      },
      "execution_count": null,
      "outputs": []
    },
    {
      "cell_type": "code",
      "source": [
        "#Hyperparameter Tuning using RandomizedSearchCV\n",
        "from sklearn.model_selection import RandomizedSearchCV\n",
        "from sklearn.linear_model import LogisticRegression\n",
        "import numpy as np\n",
        "\n",
        "# Define parameter grid\n",
        "param_dist = {\n",
        "    'C': np.logspace(-3, 3, 10),  # Regularization strength\n",
        "    'penalty': ['l1', 'l2'],  # Regularization type\n",
        "    'solver': ['liblinear', 'saga']  # Compatible solvers\n",
        "}\n",
        "\n",
        "# Initialize Logistic Regression model\n",
        "log_reg = LogisticRegression()\n",
        "\n",
        "# Perform Randomized Search with Cross-Validation\n",
        "random_search = RandomizedSearchCV(log_reg, param_dist, cv=5, scoring='accuracy', n_iter=10, random_state=42, n_jobs=-1)\n",
        "random_search.fit(X_train, y_train)\n",
        "\n",
        "# Print best parameters and accuracy\n",
        "print(f\"Best Parameters: {random_search.best_params_}\")\n",
        "print(f\"Best Cross-Validation Accuracy: {random_search.best_score_:.4f}\")\n"
      ],
      "metadata": {
        "colab": {
          "base_uri": "https://localhost:8080/"
        },
        "id": "npm5lH4zwZ_h",
        "outputId": "64171fdc-e1bd-4930-f410-a4e73d569e26"
      },
      "execution_count": 10,
      "outputs": [
        {
          "output_type": "stream",
          "name": "stdout",
          "text": [
            "Best Parameters: {'solver': 'saga', 'penalty': 'l2', 'C': np.float64(0.46415888336127775)}\n",
            "Best Cross-Validation Accuracy: 0.9667\n"
          ]
        },
        {
          "output_type": "stream",
          "name": "stderr",
          "text": [
            "/usr/local/lib/python3.11/dist-packages/sklearn/linear_model/_sag.py:348: ConvergenceWarning: The max_iter was reached which means the coef_ did not converge\n",
            "  warnings.warn(\n"
          ]
        }
      ]
    },
    {
      "cell_type": "code",
      "source": [
        "#One-vs-One (OvO) Multiclass Logistic Regression\n",
        "from sklearn.multiclass import OneVsOneClassifier\n",
        "\n",
        "# Train One-vs-One (OvO) Logistic Regression\n",
        "ovo_model = OneVsOneClassifier(LogisticRegression())\n",
        "ovo_model.fit(X_train, y_train)\n",
        "\n",
        "# Predict and evaluate accuracy\n",
        "y_pred_ovo = ovo_model.predict(X_test)\n",
        "accuracy_ovo = accuracy_score(y_test, y_pred_ovo)\n",
        "\n",
        "print(f\"One-vs-One Logistic Regression Accuracy: {accuracy_ovo:.4f}\")\n"
      ],
      "metadata": {
        "colab": {
          "base_uri": "https://localhost:8080/"
        },
        "id": "t8H3xp4dwzPr",
        "outputId": "17ed769e-a9f7-4934-e6fb-c72a42b621b0"
      },
      "execution_count": 11,
      "outputs": [
        {
          "output_type": "stream",
          "name": "stdout",
          "text": [
            "One-vs-One Logistic Regression Accuracy: 1.0000\n"
          ]
        }
      ]
    },
    {
      "cell_type": "code",
      "source": [
        "#Logistic Regression with Confusion Matrix Visualization\n",
        "import seaborn as sns\n",
        "import matplotlib.pyplot as plt\n",
        "from sklearn.metrics import confusion_matrix\n",
        "\n",
        "# Train Logistic Regression model\n",
        "model = LogisticRegression()\n",
        "model.fit(X_train, y_train)\n",
        "\n",
        "# Predict and compute confusion matrix\n",
        "y_pred = model.predict(X_test)\n",
        "cm = confusion_matrix(y_test, y_pred)\n",
        "\n",
        "# Plot confusion matrix\n",
        "plt.figure(figsize=(5,4))\n",
        "sns.heatmap(cm, annot=True, fmt='d', cmap='Blues', xticklabels=['Negative', 'Positive'], yticklabels=['Negative', 'Positive'])\n",
        "plt.xlabel('Predicted')\n",
        "plt.ylabel('Actual')\n",
        "plt.title('Confusion Matrix')\n",
        "plt.show()\n"
      ],
      "metadata": {
        "colab": {
          "base_uri": "https://localhost:8080/",
          "height": 410
        },
        "id": "oPaa_mkrwgL4",
        "outputId": "d039d562-d731-4838-9d56-de1b47cbb89f"
      },
      "execution_count": 12,
      "outputs": [
        {
          "output_type": "display_data",
          "data": {
            "text/plain": [
              "<Figure size 500x400 with 2 Axes>"
            ],
            "image/png": "[encoded data removed]"
          },
          "metadata": {}
        }
      ]
    },
    {
      "cell_type": "code",
      "source": [
        "#Evaluate Logistic Regression using Precision, Recall, and F1-Score\n",
        "from sklearn.metrics import precision_score, recall_score, f1_score\n",
        "\n",
        "# Compute evaluation metrics\n",
        "precision = precision_score(y_test, y_pred)\n",
        "recall = recall_score(y_test, y_pred)\n",
        "f1 = f1_score(y_test, y_pred)\n",
        "\n",
        "print(f\"Precision: {precision:.4f}\")\n",
        "print(f\"Recall: {recall:.4f}\")\n",
        "print(f\"F1-Score: {f1:.4f}\")\n"
      ],
      "metadata": {
        "colab": {
          "base_uri": "https://localhost:8080/"
        },
        "id": "SKR9UbSFxXlz",
        "outputId": "031b2b2b-30e2-40ce-d886-c8b5df35974f"
      },
      "execution_count": 14,
      "outputs": [
        {
          "output_type": "stream",
          "name": "stdout",
          "text": [
            "Precision: 1.0000\n",
            "Recall: 1.0000\n",
            "F1-Score: 1.0000\n"
          ]
        }
      ]
    },
    {
      "cell_type": "code",
      "source": [
        "# Handling Imbalanced Data with Class Weights\n",
        "from sklearn.utils.class_weight import compute_class_weight\n",
        "\n",
        "# Automatically determine class weights\n",
        "class_weights = 'balanced'\n",
        "\n",
        "# Train Logistic Regression model with class weights\n",
        "imbalanced_model = LogisticRegression(class_weight=class_weights)\n",
        "imbalanced_model.fit(X_train, y_train)\n",
        "\n",
        "# Predict and evaluate accuracy\n",
        "y_pred_imbalanced = imbalanced_model.predict(X_test)\n",
        "accuracy_imbalanced = accuracy_score(y_test, y_pred_imbalanced)\n",
        "\n",
        "print(f\"Accuracy with Class Weights: {accuracy_imbalanced:.4f}\")\n"
      ],
      "metadata": {
        "colab": {
          "base_uri": "https://localhost:8080/"
        },
        "id": "3lNai1RexfG1",
        "outputId": "64036cee-0ba6-481c-dd0d-12c925751847"
      },
      "execution_count": 15,
      "outputs": [
        {
          "output_type": "stream",
          "name": "stdout",
          "text": [
            "Accuracy with Class Weights: 1.0000\n"
          ]
        }
      ]
    },
    {
      "cell_type": "code",
      "source": [
        "#Train Logistic Regression on the Titanic Dataset (Handling Missing Values)\n",
        "\n",
        "import pandas as pd\n",
        "from sklearn.impute import SimpleImputer\n",
        "from sklearn.preprocessing import StandardScaler\n",
        "\n",
        "# Load Titanic dataset\n",
        "df = pd.read_csv(\"titanic.csv\")  # Change to actual file path\n",
        "\n",
        "# Select relevant features\n",
        "df = df[['Pclass', 'Age', 'SibSp', 'Parch', 'Fare', 'Sex', 'Embarked', 'Survived']]\n",
        "\n",
        "# Encode categorical variables\n",
        "df['Sex'] = df['Sex'].map({'male': 0, 'female': 1})\n",
        "df['Embarked'] = df['Embarked'].map({'C': 0, 'Q': 1, 'S': 2})\n",
        "\n",
        "# Handle missing values\n",
        "imputer = SimpleImputer(strategy='median')\n",
        "df[['Age', 'Fare']] = imputer.fit_transform(df[['Age', 'Fare']])\n",
        "\n",
        "# Drop remaining NaN values\n",
        "df = df.dropna()\n",
        "\n",
        "# Split features and target variable\n",
        "X = df.drop(columns=['Survived'])\n",
        "y = df['Survived']\n",
        "\n",
        "# Train-test split\n",
        "X_train, X_test, y_train, y_test = train_test_split(X, y, test_size=0.2, random_state=42)\n",
        "\n",
        "# Train Logistic Regression\n",
        "titanic_model = LogisticRegression()\n",
        "titanic_model.fit(X_train, y_train)\n",
        "\n",
        "# Predict and evaluate\n",
        "y_pred_titanic = titanic_model.predict(X_test)\n",
        "accuracy_titanic = accuracy_score(y_test, y_pred_titanic)\n",
        "\n",
        "print(f\"Titanic Dataset Logistic Regression Accuracy: {accuracy_titanic:.4f}\")\n",
        "\n",
        "\n"
      ],
      "metadata": {
        "id": "3z2A8pouxp4V"
      },
      "execution_count": null,
      "outputs": []
    },
    {
      "cell_type": "code",
      "source": [
        "#Feature Scaling (Standardization) and Accuracy Comparison\n",
        "from sklearn.preprocessing import StandardScaler\n",
        "\n",
        "# Train Logistic Regression without Scaling\n",
        "model_no_scaling = LogisticRegression()\n",
        "model_no_scaling.fit(X_train, y_train)\n",
        "accuracy_no_scaling = accuracy_score(y_test, model_no_scaling.predict(X_test))\n",
        "\n",
        "# Apply Standardization\n",
        "scaler = StandardScaler()\n",
        "X_train_scaled = scaler.fit_transform(X_train)\n",
        "X_test_scaled = scaler.transform(X_test)\n",
        "\n",
        "# Train Logistic Regression with Scaling\n",
        "model_with_scaling = LogisticRegression()\n",
        "model_with_scaling.fit(X_train_scaled, y_train)\n",
        "accuracy_with_scaling = accuracy_score(y_test, model_with_scaling.predict(X_test_scaled))\n",
        "\n",
        "# Print comparison results\n",
        "print(f\"Accuracy without Scaling: {accuracy_no_scaling:.4f}\")\n",
        "print(f\"Accuracy with Scaling: {accuracy_with_scaling:.4f}\")\n",
        "\n"
      ],
      "metadata": {
        "colab": {
          "base_uri": "https://localhost:8080/"
        },
        "id": "Fmth81xDxv0B",
        "outputId": "8fddedde-8ba8-457a-ab5c-6fa23487fa97"
      },
      "execution_count": 17,
      "outputs": [
        {
          "output_type": "stream",
          "name": "stdout",
          "text": [
            "Accuracy without Scaling: 1.0000\n",
            "Accuracy with Scaling: 1.0000\n"
          ]
        }
      ]
    },
    {
      "cell_type": "code",
      "source": [
        "#Train Logistic Regression and Evaluate ROC-AUC Score\n",
        "from sklearn.metrics import roc_auc_score\n",
        "\n",
        "# Train Logistic Regression model\n",
        "model = LogisticRegression()\n",
        "model.fit(X_train, y_train)\n",
        "\n",
        "# Predict probabilities\n",
        "y_prob = model.predict_proba(X_test)[:, 1]\n",
        "\n",
        "# Compute ROC-AUC score\n",
        "roc_auc = roc_auc_score(y_test, y_prob)\n",
        "print(f\"ROC-AUC Score: {roc_auc:.4f}\")\n"
      ],
      "metadata": {
        "colab": {
          "base_uri": "https://localhost:8080/"
        },
        "id": "eiA13Iavx2fO",
        "outputId": "511dfad3-9f93-45a6-b991-e968185053f0"
      },
      "execution_count": 18,
      "outputs": [
        {
          "output_type": "stream",
          "name": "stdout",
          "text": [
            "ROC-AUC Score: 1.0000\n"
          ]
        }
      ]
    },
    {
      "cell_type": "code",
      "source": [
        "# Train Logistic Regression with Custom Learning Rate (C=0.5)\n",
        "# Train Logistic Regression with a specific regularization strength\n",
        "model_custom_c = LogisticRegression(C=0.5)\n",
        "model_custom_c.fit(X_train, y_train)\n",
        "\n",
        "# Evaluate accuracy\n",
        "accuracy_custom_c = accuracy_score(y_test, model_custom_c.predict(X_test))\n",
        "print(f\"Accuracy with C=0.5: {accuracy_custom_c:.4f}\")\n"
      ],
      "metadata": {
        "colab": {
          "base_uri": "https://localhost:8080/"
        },
        "id": "-wIf4NgIyEwE",
        "outputId": "203697e8-356c-4a30-f993-3845e6ef62cd"
      },
      "execution_count": 19,
      "outputs": [
        {
          "output_type": "stream",
          "name": "stdout",
          "text": [
            "Accuracy with C=0.5: 1.0000\n"
          ]
        }
      ]
    },
    {
      "source": [
        "# Identify Important Features using Model Coefficients\n",
        "import pandas as pd\n",
        "\n",
        "# Train Logistic Regression\n",
        "model = LogisticRegression()\n",
        "model.fit(X_train, y_train)\n",
        "\n",
        "# Assuming 'df' is your original DataFrame containing the features\n",
        "feature_importance = pd.Series(abs(model.coef_[0]), index=df.drop(columns=['Survived']).columns).sort_values(ascending=False)\n",
        "print(\"Feature Importance:\\n\", feature_importance)"
      ],
      "cell_type": "code",
      "metadata": {
        "id": "rCYsZ7cIyc17"
      },
      "execution_count": null,
      "outputs": []
    },
    {
      "cell_type": "code",
      "source": [
        "# . Evaluate Logistic Regression using Cohen’s Kappa Score\n",
        "from sklearn.metrics import cohen_kappa_score\n",
        "\n",
        "# Predict and compute Cohen’s Kappa Score\n",
        "kappa = cohen_kappa_score(y_test, model.predict(X_test))\n",
        "print(f\"Cohen’s Kappa Score: {kappa:.4f}\")\n",
        "\n"
      ],
      "metadata": {
        "id": "dljs5rGIytW8"
      },
      "execution_count": null,
      "outputs": []
    },
    {
      "cell_type": "code",
      "source": [
        "# Visualize the Precision-Recall Curve\n",
        "from sklearn.metrics import precision_recall_curve\n",
        "import matplotlib.pyplot as plt\n",
        "\n",
        "# Predict probabilities\n",
        "precision, recall, _ = precision_recall_curve(y_test, y_prob)\n",
        "\n",
        "# Plot Precision-Recall Curve\n",
        "plt.plot(recall, precision, marker='.', label=\"Logistic Regression\")\n",
        "plt.xlabel(\"Recall\")\n",
        "plt.ylabel(\"Precision\")\n",
        "plt.title(\"Precision-Recall Curve\")\n",
        "plt.legend()\n",
        "plt.show()\n"
      ],
      "metadata": {
        "colab": {
          "base_uri": "https://localhost:8080/",
          "height": 472
        },
        "id": "CFsOOlW6y2Vl",
        "outputId": "8c9b64e2-46ba-4458-8f33-b0dac8f18031"
      },
      "execution_count": 24,
      "outputs": [
        {
          "output_type": "display_data",
          "data": {
            "text/plain": [
              "<Figure size 640x480 with 1 Axes>"
            ],
            "image/png": "[encoded data removed]"
          },
          "metadata": {}
        }
      ]
    },
    {
      "cell_type": "code",
      "source": [
        "#Train Logistic Regression with Different Solvers and Compare Accuracy\n",
        "solvers = ['liblinear', 'saga', 'lbfgs']\n",
        "accuracy_results = {}\n",
        "\n",
        "for solver in solvers:\n",
        "    model = LogisticRegression(solver=solver)\n",
        "    model.fit(X_train, y_train)\n",
        "    accuracy_results[solver] = accuracy_score(y_test, model.predict(X_test))\n",
        "\n",
        "# Print accuracy comparison\n",
        "for solver, acc in accuracy_results.items():\n",
        "    print(f\"Solver: {solver} -> Accuracy: {acc:.4f}\")\n"
      ],
      "metadata": {
        "colab": {
          "base_uri": "https://localhost:8080/"
        },
        "id": "3uoisAV-y9Fl",
        "outputId": "310dcc19-d843-449f-c505-e807b4c7234f"
      },
      "execution_count": 25,
      "outputs": [
        {
          "output_type": "stream",
          "name": "stdout",
          "text": [
            "Solver: liblinear -> Accuracy: 1.0000\n",
            "Solver: saga -> Accuracy: 1.0000\n",
            "Solver: lbfgs -> Accuracy: 1.0000\n"
          ]
        },
        {
          "output_type": "stream",
          "name": "stderr",
          "text": [
            "/usr/local/lib/python3.11/dist-packages/sklearn/linear_model/_sag.py:348: ConvergenceWarning: The max_iter was reached which means the coef_ did not converge\n",
            "  warnings.warn(\n"
          ]
        }
      ]
    },
    {
      "cell_type": "code",
      "source": [
        "#Evaluate Logistic Regression using Matthews Correlation Coefficient (MCC)\n",
        "from sklearn.metrics import matthews_corrcoef\n",
        "\n",
        "# Compute MCC\n",
        "mcc = matthews_corrcoef(y_test, model.predict(X_test))\n",
        "print(f\"Matthews Correlation Coefficient (MCC): {mcc:.4f}\")\n"
      ],
      "metadata": {
        "colab": {
          "base_uri": "https://localhost:8080/"
        },
        "id": "oUOE1Ersy_1N",
        "outputId": "d4ddb285-2f00-4c92-babf-ad24d0f8539e"
      },
      "execution_count": 26,
      "outputs": [
        {
          "output_type": "stream",
          "name": "stdout",
          "text": [
            "Matthews Correlation Coefficient (MCC): 1.0000\n"
          ]
        }
      ]
    },
    {
      "cell_type": "code",
      "source": [
        "# Compare Logistic Regression on Raw and Standardized Data\n",
        "# Train Logistic Regression without Standardization\n",
        "model_raw = LogisticRegression()\n",
        "model_raw.fit(X_train, y_train)\n",
        "accuracy_raw = accuracy_score(y_test, model_raw.predict(X_test))\n",
        "\n",
        "# Apply Standardization\n",
        "scaler = StandardScaler()\n",
        "X_train_scaled = scaler.fit_transform(X_train)\n",
        "X_test_scaled = scaler.transform(X_test)\n",
        "\n",
        "# Train Logistic Regression with Standardization\n",
        "model_scaled = LogisticRegression()\n",
        "model_scaled.fit(X_train_scaled, y_train)\n",
        "accuracy_scaled = accuracy_score(y_test, model_scaled.predict(X_test_scaled))\n",
        "\n",
        "# Print comparison\n",
        "print(f\"Accuracy without Standardization: {accuracy_raw:.4f}\")\n",
        "print(f\"Accuracy with Standardization: {accuracy_scaled:.4f}\")\n"
      ],
      "metadata": {
        "colab": {
          "base_uri": "https://localhost:8080/"
        },
        "id": "XV_cnak2zF4V",
        "outputId": "19dd7a51-4d0b-4822-9a0d-db28b98a90f8"
      },
      "execution_count": 27,
      "outputs": [
        {
          "output_type": "stream",
          "name": "stdout",
          "text": [
            "Accuracy without Standardization: 1.0000\n",
            "Accuracy with Standardization: 1.0000\n"
          ]
        }
      ]
    },
    {
      "cell_type": "code",
      "source": [
        "# . Find Optimal C (Regularization Strength) using Cross-Validation\n",
        "from sklearn.model_selection import cross_val_score\n",
        "import numpy as np\n",
        "\n",
        "# Define range of C values\n",
        "C_values = np.logspace(-3, 3, 10)\n",
        "best_C = None\n",
        "best_score = 0\n",
        "\n",
        "# Perform cross-validation for each C value\n",
        "for C in C_values:\n",
        "    model = LogisticRegression(C=C)\n",
        "    scores = cross_val_score(model, X, y, cv=5, scoring='accuracy')\n",
        "    avg_score = scores.mean()\n",
        "\n",
        "    if avg_score > best_score:\n",
        "        best_score = avg_score\n",
        "        best_C = C\n",
        "\n",
        "print(f\"Best C: {best_C}\")\n",
        "print(f\"Best Cross-Validation Accuracy: {best_score:.4f}\")\n"
      ],
      "metadata": {
        "colab": {
          "base_uri": "https://localhost:8080/"
        },
        "id": "UK49Q598zKZe",
        "outputId": "60ba9ec1-c154-4648-f924-352b8305d3dc"
      },
      "execution_count": 28,
      "outputs": [
        {
          "output_type": "stream",
          "name": "stdout",
          "text": [
            "Best C: 46.41588833612773\n",
            "Best Cross-Validation Accuracy: 0.9733\n"
          ]
        }
      ]
    },
    {
      "cell_type": "code",
      "source": [
        "#. Train Logistic Regression, Save Model, and Load it for Predictions\n",
        "import joblib\n",
        "\n",
        "# Train Logistic Regression\n",
        "model = LogisticRegression()\n",
        "model.fit(X_train, y_train)\n",
        "\n",
        "# Save model to file\n",
        "joblib.dump(model, \"logistic_regression_model.pkl\")\n",
        "\n",
        "# Load model\n",
        "loaded_model = joblib.load(\"logistic_regression_model.pkl\")\n",
        "\n",
        "# Make predictions using the loaded model\n",
        "y_pred_loaded = loaded_model.predict(X_test)\n",
        "accuracy_loaded = accuracy_score(y_test, y_pred_loaded)\n",
        "\n",
        "print(f\"Loaded Model Accuracy: {accuracy_loaded:.4f}\")\n"
      ],
      "metadata": {
        "colab": {
          "base_uri": "https://localhost:8080/"
        },
        "id": "bE-fCR1DzUHV",
        "outputId": "22973640-e9c5-4cc6-aed9-c030718cebc6"
      },
      "execution_count": 29,
      "outputs": [
        {
          "output_type": "stream",
          "name": "stdout",
          "text": [
            "Loaded Model Accuracy: 1.0000\n"
          ]
        }
      ]
    }
  ]
}