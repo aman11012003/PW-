{
  "nbformat": 4,
  "nbformat_minor": 0,
  "metadata": {
    "colab": {
      "provenance": []
    },
    "kernelspec": {
      "name": "python3",
      "display_name": "Python 3"
    },
    "language_info": {
      "name": "python"
    }
  },
  "cells": [
    {
      "cell_type": "code",
      "execution_count": null,
      "metadata": {
        "id": "TkgpVrlLdpF0"
      },
      "outputs": [],
      "source": []
    },
    {
      "cell_type": "markdown",
      "source": [
        "1. What are data structures, and why are they important?\n",
        "\n",
        "Data structures are ways to organize, manage, and store data efficiently for easy access and modification. They are important because they optimize performance for specific tasks, such as searching, sorting, and manipulating data.\n",
        "\n"
      ],
      "metadata": {
        "id": "Ez1E3rQzdqNh"
      }
    },
    {
      "cell_type": "markdown",
      "source": [
        "2 Difference Between Mutable and Immutable Data Types\n",
        "\n",
        "- **Mutable Data Types**: These can be modified after creation, meaning their content can change without creating a new object.\n",
        "  - **Example**: Lists  \n",
        "    ```python\n",
        "    my_list = [1, 2,3]\n",
        "    my_list[0] = 10  # Modifies the list\n",
        "    print(my_list)  # Output: [10, 2, 3]\n",
        "    ```\n",
        "\n",
        "- **Immutable Data Types**: These cannot be modified after creation. Any operation that tries to change their value creates a new object instead.\n",
        "  - **Example**: Strings  \n",
        "    ```python\n",
        "    my_str = \"hello\"\n",
        "    my_str[0] = \"H\"  # Raises an error\n",
        "    new_str = my_str.replace(\"h\", \"H\")  # Creates a new string\n",
        "    print(new_str)  # Output: \"Hello\"\n",
        "    ```\n",
        "\n",
        "This distinction is essential for managing data integrity and memory efficiency."
      ],
      "metadata": {
        "id": "ccUId-R9eI3X"
      }
    },
    {
      "cell_type": "markdown",
      "source": [
        "3 What are the main differences between lists and tuples in Python?\n",
        "\n",
        "Main Differences Between Lists and Tuples in Python\n",
        "\n",
        "1. **Mutability**:\n",
        "   - **Lists**: Mutable, meaning they can be modified after creation (e.g., adding, removing, or changing elements).\n",
        "     ```python\n",
        "     my_list = [1, 2, 3]\n",
        "     my_list[0] = 10  # Modifies the list\n",
        "     print(my_list)  # Output: [10, 2, 3]\n",
        "     ```\n",
        "   - **Tuples**: Immutable, meaning they cannot be changed once created.\n",
        "     ```python\n",
        "     my_tuple = (1, 2, 3)\n",
        "     my_tuple[0] = 10  # Raises an error\n",
        "     ```\n",
        "\n",
        "2. **Syntax**:\n",
        "   - **Lists**: Defined using square brackets `[ ]`.\n",
        "   - **Tuples**: Defined using parentheses `( )`.\n",
        "\n",
        "3. **Performance**:\n",
        "   - **Lists**: Slower due to their mutability, which requires additional overhead.\n",
        "   - **Tuples**: Faster because they are immutable and require less memory.\n",
        "\n",
        "4. **Use Cases**:\n",
        "   - **Lists**: Used when you need a dynamic collection of items that may change over time.\n",
        "   - **Tuples**: Used for fixed data or when the collection must remain constant (e.g., coordinates, configuration settings).\n",
        "\n",
        "5. **Hashability**:\n",
        "   - **Lists**: Cannot be used as dictionary keys or elements in a set.\n",
        "   - **Tuples**: Can be used as dictionary keys and set elements if they contain only hashable items."
      ],
      "metadata": {
        "id": "ioxAnKbseVvJ"
      }
    },
    {
      "cell_type": "markdown",
      "source": [
        "4 Describe how dictionaries store data.\n",
        "\n",
        "\n",
        "Dictionaries in Python store data as key-value pairs, where keys are unique identifiers for values. Keys are hashed using a hash function to determine their storage location in a hash table, enabling fast lookups with an average time complexity of O(1). The keys must be immutable (e.g., strings, numbers, or tuples), while values can be of any data type. In case of hash collisions, Python handles them using techniques like open addressing or chaining. Starting with Python 3.7, dictionaries preserve the insertion order of keys. Values can include nested data structures like lists or other dictionaries. Their flexibility and efficiency make them ideal for fast data mapping and retrieval tasks."
      ],
      "metadata": {
        "id": "Bi_IaTNae42V"
      }
    },
    {
      "cell_type": "markdown",
      "source": [
        "5  Why might you use a set instead of a list in Python?  \n",
        "\n",
        "A set is used when you need a collection of unique elements with no duplicates. Unlike lists, sets offer fast membership testing (O(1)) due to their hash table implementation. They are unordered, which makes them less memory-intensive. Operations like union, intersection, and difference are also optimized for sets. Use sets for deduplication or mathematical set operations.\n",
        "\n",
        "\n"
      ],
      "metadata": {
        "id": "Is0c7oOsfb89"
      }
    },
    {
      "cell_type": "markdown",
      "source": [
        "6 What is a string in Python, and how is it different from a list?\n",
        "\n",
        "\n",
        "A string in Python is an immutable sequence of characters, meaning it cannot be modified after creation. A list, on the other hand, is mutable and can hold elements of any data type. Strings are specialized for text manipulation, while lists are versatile for storing and manipulating collections. For example, `\"hello\"[0]` accesses the first character of a string, but `[1, 2, 3][0]` accesses the first item of a list. Lists allow dynamic resizing, whereas strings require creating a new object for modifications.\n",
        "\n",
        "\n"
      ],
      "metadata": {
        "id": "jVBdiJCrgSq7"
      }
    },
    {
      "cell_type": "markdown",
      "source": [
        "7  How do tuples ensure data integrity in Python?  \n",
        "Tuples are immutable, which means their elements cannot be modified after creation. This immutability ensures that the data within a tuple remains consistent and unchanged, making them ideal for fixed collections like coordinates or constants. Since they cannot be altered, tuples can safely be used as keys in dictionaries or elements in sets. Their immutability also reduces the risk of unintended side effects in code.\n",
        "\n",
        "\n",
        "\n"
      ],
      "metadata": {
        "id": "ofLITTYIgwpt"
      }
    },
    {
      "cell_type": "markdown",
      "source": [
        "8 What is a hash table, and how does it relate to dictionaries in Python?\n",
        "\n",
        "A hash table is a data structure that maps keys to values using a hash function, which generates a unique hash value for each key. Python dictionaries use hash tables to store key-value pairs efficiently. The hash value determines the bucket in which the pair is stored, enabling fast lookups, insertions, and deletions with an average time complexity of O(1). This mechanism also ensures that dictionaries handle large datasets effectively.\n",
        "\n"
      ],
      "metadata": {
        "id": "N0RvMj5Ogy-u"
      }
    },
    {
      "cell_type": "markdown",
      "source": [
        " 9 Can lists contain different data types in Python?  \n",
        "\n",
        "\n",
        "Yes, lists in Python can contain elements of different data types. For example, `[1, \"hello\", 3.14, [2, 3]]` is a valid list that contains an integer, a string, a float, and another list. This flexibility makes lists versatile and suitable for storing heterogeneous collections. Python lists are dynamic, allowing elements to be added, removed, or modified as needed. This characteristic is one of the reasons for their widespread use."
      ],
      "metadata": {
        "id": "bBMu76UAg19w"
      }
    },
    {
      "cell_type": "markdown",
      "source": [
        "10 Explain why strings are immutable in Python.\n",
        "\n",
        "Python makes strings immutable for improved efficiency and security. Immutable objects provide memory minimization since numerous references can safely point to the same item without the risk of alteration. This immutability ensures that strings behave consistently when passed across functions or threads. It also permits strings to be hashable, so they can be used as dictionary keys. Any change to a string produces a new object rather than changing an old one.\n",
        "\n",
        "\n"
      ],
      "metadata": {
        "id": "zKhzCnYng5sx"
      }
    },
    {
      "cell_type": "markdown",
      "source": [
        "11 What advantages do dictionaries offer over lists for certain tasks?\n",
        "\n",
        "Advantages of Dictionaries Over Lists for Certain Tasks:\n",
        "\n",
        "1. **Fast Lookups**:  \n",
        "  Dictionaries have O(1) average time complexity for key-based lookups due to their hash table implementation. In contrast, lists require O(n) time to find a value because each element must be verified sequentially.\n",
        "\n",
        "2. **Key-Value Pair Storage**:  \n",
        "   Dictionaries hold data in key-value pairs, making them appropriate for applications requiring data association or labeling. For example, storing student names as keys and grades as values is more natural and economical than maintaining two lists.\n",
        "\n",
        "3. **Uniqueness of Keys**:  \n",
        "  Dictionary keys are unique, guaranteeing that no data is copied unintentionally. Lists do not enforce uniqueness, which can result in duplicate or incorrect data.\n",
        "\n",
        "4. **Efficient Data Organization**:  \n",
        "   Dictionaries better organize non-sequential data, making it easier to retrieve using descriptive keys. A dictionary, for example, makes it faster and easier to find a configuration parameter by name.\n",
        "\n",
        "5. **Flexible Data Storage**:  \n",
        "   Complex data structures, such as lists or nested dictionaries, can be stored as values in dictionaries. Because of this, they can be used to represent connected or hierarchical data, which lists would find difficult to handle.  \n",
        "\n",
        "\n",
        "**Example**:  \n",
        "Using a dictionary for a phonebook:  \n",
        "```python\n",
        "phonebook = {\"Alice\": \"123-4567\", \"Bob\": \"987-6543\"}\n",
        "print(phonebook[\"Alice\"])  # Output: 123-4567\n",
        "```  \n",
        "This is more efficient than using two lists for names and phone numbers."
      ],
      "metadata": {
        "id": "_i8YCjXrhquy"
      }
    },
    {
      "cell_type": "markdown",
      "source": [
        "12 Describe a scenario where using a tuple would be preferable over a list.\n",
        "### Scenario Where a Tuple is Preferable Over a List\n",
        "\n",
        "Tuples are ideal when you need a fixed, immutable collection of data that should not change after creation. For instance:\n",
        "\n",
        "**Scenario**: Storing GPS Coordinates  \n",
        "Suppose you need to store a specific location's latitude and longitude, such as `(40.7128, -74.0060)` for New York City. Tuples are perfect for this because:\n",
        "1. The coordinates are fixed and should not be modified.\n",
        "2. Tuples provide better performance and require less memory than lists.\n",
        "3. Their immutability ensures that the data remains consistent throughout the program.\n",
        "\n",
        "**Example**:  \n",
        "```python\n",
        "coordinates = (40.7128, -74.0060)\n",
        "print(f\"Latitude: {coordinates[0]}, Longitude: {coordinates[1]}\")\n",
        "```\n",
        "\n",
        "Additionally, tuples can be used as dictionary keys or elements in sets, which lists cannot, making them suitable for scenarios requiring hashable data. For example, mapping coordinates to city names:\n",
        "```python\n",
        "city_map = {(40.7128, -74.0060): \"New York\"}\n",
        "print(city_map[(40.7128, -74.0060)])  # Output: New York\n",
        "```"
      ],
      "metadata": {
        "id": "hOlnYVdjiu53"
      }
    },
    {
      "cell_type": "markdown",
      "source": [
        "13 How do sets handle duplicate values in Python\n",
        "\n",
        "In Python, sets automatically eliminate duplicate values. When you add elements to a set, only unique values are retained, as sets are designed to store distinct items.\n",
        "\n",
        "#### Key Characteristics:\n",
        "1. **Elimination of Duplicates**:  \n",
        "   If a duplicate value is added to a set, it is ignored, and the set remains unchanged.\n",
        "   ```python\n",
        "   my_set = {1, 2, 2, 3}\n",
        "   print(my_set)  # Output: {1, 2, 3}\n",
        "   ```\n",
        "\n",
        "2. **Hashing for Uniqueness**:  \n",
        "   Sets use a hash table internally to store elements, ensuring each value is stored only once. Hashing checks if an element already exists before adding it.\n",
        "\n",
        "3. **No Order Preservation**:  \n",
        "   Sets are unordered, so they do not maintain the original order of elements.\n",
        "\n",
        "4. **Efficient Membership Testing**:  \n",
        "   Sets allow fast O(1) time complexity for checking the existence of an element, making them useful for deduplication or membership tests.\n",
        "\n",
        "#### Example Use Case:\n",
        "Deduplicating a list of values:\n",
        "```python\n",
        "values = [1, 2, 2, 3, 4, 4, 5]\n",
        "unique_values = set(values)\n",
        "print(unique_values)  # Output: {1, 2, 3, 4, 5}\n",
        "```\n",
        "\n",
        "This behavior makes sets ideal for tasks requiring unique collections."
      ],
      "metadata": {
        "id": "ugfuzwPfjQm4"
      }
    },
    {
      "cell_type": "markdown",
      "source": [
        "14  How does the “in” keyword work differently for lists and dictionaries?\n",
        "\n",
        "\n",
        "\n",
        "The `in` keyword in Python is used to check for membership, but its behavior differs for lists and dictionaries:\n",
        "\n",
        "1. **For Lists**:\n",
        "   - The `in` keyword checks whether a specific value exists in the list.\n",
        "   - It performs a sequential search, iterating through each element.\n",
        "   - The time complexity is O(n), where n is the length of the list.\n",
        "\n",
        "   **Example**:\n",
        "   ```python\n",
        "   my_list = [1, 2, 3, 4]\n",
        "   print(3 in my_list)  # Output: True\n",
        "   print(5 in my_list)  # Output: False\n",
        "   ```\n",
        "\n",
        "2. **For Dictionaries**:\n",
        "   - The `in` keyword checks for the existence of a key, not a value.\n",
        "   - It uses hashing, making the lookup process much faster with an average time complexity of O(1).\n",
        "   - To check values, you need to use the `values()` method.\n",
        "\n",
        "   **Example**:\n",
        "   ```python\n",
        "   my_dict = {\"a\": 1, \"b\": 2, \"c\": 3}\n",
        "   print(\"a\" in my_dict)  # Output: True (checks for key)\n",
        "   print(2 in my_dict)  # Output: False (does not check values)\n",
        "   print(2 in my_dict.values())  # Output: True (checks values)\n",
        "   ```\n",
        "\n",
        "\n",
        "\n"
      ],
      "metadata": {
        "id": "ZTZkSGNEj2Ge"
      }
    },
    {
      "cell_type": "markdown",
      "source": [
        "15 Can you modify the elements of a tuple? Explain why or why not\n",
        "\n",
        "\n",
        "No, you cannot modify the elements of a tuple because tuples are **immutable** in Python. Once a tuple is created, its size and elements are fixed and cannot be changed. This immutability applies to adding, removing, or altering the elements of a tuple.\n",
        "\n",
        "#### Why Tuples Are Immutable:\n",
        "1. **Data Integrity**: Immutability ensures the data remains consistent and prevents unintended modifications.\n",
        "2. **Hashability**: Tuples can be used as dictionary keys or set elements because their immutability guarantees a consistent hash value.\n",
        "3. **Performance**: Tuples are faster and use less memory than lists due to their fixed nature.\n",
        "\n",
        "#### Example:\n",
        "```python\n",
        "my_tuple = (1, 2, 3)\n",
        "my_tuple[0] = 10  # This raises a TypeError\n",
        "```\n",
        "\n",
        "#### Workaround:\n",
        "Although you cannot modify the tuple itself, you can create a new tuple by combining parts of the original:\n",
        "```python\n",
        "new_tuple = my_tuple[:1] + (10,) + my_tuple[2:]\n",
        "print(new_tuple)  # Output: (1, 10, 3)\n",
        "```\n",
        "\n",
        "This immutability makes tuples ideal for storing data that should not change, like configuration settings or fixed coordinates."
      ],
      "metadata": {
        "id": "-GXWwW7ikTID"
      }
    },
    {
      "cell_type": "markdown",
      "source": [
        "16  What is a nested dictionary, and give an example of its use case?\n",
        "\n",
        "\n",
        "\n",
        "A **nested dictionary** is a dictionary where some values are themselves dictionaries. This allows for organizing and storing data in a hierarchical structure, making it easier to represent complex relationships between data.\n",
        "\n",
        "### Example:\n",
        "```python\n",
        "students = {\n",
        "    \"Alice\": {\"math\": 90, \"science\": 85},\n",
        "    \"Bob\": {\"math\": 78, \"science\": 92},\n",
        "    \"Charlie\": {\"math\": 88, \"science\": 80}\n",
        "}\n",
        "```\n",
        "Here, each student’s name (`\"Alice\"`, `\"Bob\"`, `\"Charlie\"`) is a key in the outer dictionary, and their scores are stored in inner dictionaries.\n",
        "\n",
        "---\n",
        "\n",
        "### Use Case:\n",
        "\n",
        "Nested dictionaries are useful for organizing related data that has multiple attributes. A common use case is storing structured data such as student records, employee information, or configuration settings.\n",
        "\n",
        "#### Example Use Case: Storing Student Grades\n",
        "In the above example:\n",
        "- The outer dictionary keys (`\"Alice\"`, `\"Bob\"`, `\"Charlie\"`) represent the students.\n",
        "- The inner dictionaries store subject-specific grades.\n",
        "\n",
        "Accessing specific data is straightforward:\n",
        "```python\n",
        "print(students[\"Alice\"][\"math\"])  # Output: 90\n",
        "```\n",
        "\n"
      ],
      "metadata": {
        "id": "a4ePIxGvktv4"
      }
    },
    {
      "cell_type": "markdown",
      "source": [
        "17\n",
        "Time Complexity of Accessing Elements in a Dictionary\n",
        "\n",
        "\n",
        "\n",
        "Accessing elements in a dictionary is highly efficient due to its underlying hash table implementation. Here’s a breakdown of the time complexity:\n",
        "\n",
        "1. **Average Case**:  \n",
        "   - The average time complexity for accessing an element by its key is **O(1)**.  \n",
        "   - This efficiency comes from hashing, where the key is hashed to compute its position in the hash table, allowing direct access.\n",
        "\n",
        "2. **Worst Case**:  \n",
        "   - In rare cases of hash collisions (where multiple keys hash to the same position), the time complexity becomes **O(n)**.  \n",
        "   - Collisions are managed through techniques like chaining (linked lists) or open addressing, but excessive collisions in a poorly distributed hash table can degrade performance.\n",
        "\n",
        "3. **Amortized Performance**:  \n",
        "   - In practice, Python's hash table implementation minimizes collisions by resizing and redistributing elements as needed.  \n",
        "   - This ensures that **O(1)** access remains dominant for most real-world scenarios.\n",
        "\n",
        "### Example:\n",
        "```python\n",
        "my_dict = {\"a\": 1, \"b\": 2, \"c\": 3}\n",
        "print(my_dict[\"b\"])  # O(1) average time complexity\n",
        "```\n",
        "\n"
      ],
      "metadata": {
        "id": "5wUEmMNVlrAV"
      }
    },
    {
      "cell_type": "markdown",
      "source": [
        "18 In what situations are lists preferred over dictionaries?\n",
        "\n",
        "### Situations Where Lists Are Preferred Over Dictionaries\n",
        "\n",
        "1. **Sequential Data**:\n",
        "   - Lists are ideal when the data represents a sequence where order matters.\n",
        "   - Example: Storing a series of numbers `[10, 20, 30]` or processing items in a specific order.\n",
        "\n",
        "2. **Index-Based Access**:\n",
        "   - Use lists when you need to access elements by their position (index).\n",
        "   - Example: Accessing the third item in a list: `my_list[2]`.\n",
        "\n",
        "3. **When Keys Are Unnecessary**:\n",
        "   - Lists are simpler when there's no need for labeled data or key-value pairs.\n",
        "   - Example: A collection of colors: `[\"red\", \"blue\", \"green\"]`.\n",
        "\n",
        "4. **Memory Efficiency**:\n",
        "   - Lists are generally more memory-efficient than dictionaries for small datasets, as dictionaries require additional storage for keys and hash tables.\n",
        "\n",
        "5. **Iterative Operations**:\n",
        "   - Lists are better suited for operations that require iterating over all items in order, such as sorting, filtering, or mapping.\n",
        "\n",
        "---\n",
        "\n",
        "### Example:\n",
        "**Preferred Use of a List**:  \n",
        "Storing and processing a list of student scores:\n",
        "```python\n",
        "scores = [85, 90, 78, 92]\n",
        "average_score = sum(scores) / len(scores)  # Efficient and straightforward\n",
        "```\n"
      ],
      "metadata": {
        "id": "rhv8wxSEmYTo"
      }
    },
    {
      "cell_type": "markdown",
      "source": [
        "19 Why are dictionaries considered unordered, and how does that affect data retrieval?\n",
        "\n",
        "\n",
        "Dictionaries in Python are traditionally considered unordered because:\n",
        "\n",
        "Python dictionaries are typically seen as unordered due to the following reasons:\n",
        "\n",
        "\n",
        "1. **Hash-Based Storage**: Keys in dictionaries are stored based on their hash values, not their insertion order. This means the physical order in memory doesn’t correspond to the order in which items are added.\n",
        "2. **Efficiency Focus**: Dictionaries prioritize fast access and retrieval using hashing, rather than maintaining order.\n",
        "\n",
        "Though this behavior shouldn't be relied upon for hash table attributes, dictionaries maintain the **insertion order** as an implementation detail starting with **Python 3.7**, making them ordered in practice.\n",
        "\n",
        "---\n",
        "\n",
        "### How Does This Affect Data Retrieval?\n",
        "\n",
        "1. **Key-Based Retrieval**:  \n",
        "   Since data retrieval is key-based, the physical order of storage doesn’t matter for access.  \n",
        "   ```python\n",
        "   my_dict = {\"a\": 1, \"b\": 2, \"c\": 3}\n",
        "   print(my_dict[\"b\"])  # Output: 2\n",
        "   ```\n",
        "\n",
        "2. **Iteration**:  \n",
        "   Before Python 3.7, iterating over a dictionary could yield items in arbitrary order. After Python 3.7, the order of insertion is maintained.  \n",
        "   ```python\n",
        "   my_dict = {\"a\": 1, \"b\": 2, \"c\": 3}\n",
        "   for key in my_dict:\n",
        "       print(key)  # Outputs: a, b, c (in insertion order for Python 3.7+)\n",
        "   ```\n",
        "\n",
        "3. **No Positional Access**:  \n",
        "   Unlike lists, dictionaries cannot retrieve items by position (e.g., \"the third item\"). This limitation stems from their key-based design.\n",
        "\n",
        "---\n",
        "\n",
        "### Practical Impact:\n",
        "Prior to Python 3.7, dictionaries were unordered, which assured performance but required key lookups rather than positional actions. With the introduction of ordered dictionaries, users can now rely on predictable iteration, which improves readability and usefulness while maintaining speed."
      ],
      "metadata": {
        "id": "2vSFzvl5mqzy"
      }
    },
    {
      "cell_type": "markdown",
      "source": [
        "20  Explain the difference between a list and a dictionary in terms of data retrieval.\n",
        "\n",
        "\n",
        "\n",
        "1. **Method of Retrieval**:\n",
        "   - **List**: Data is retrieved by **index** (positional access). Each element is associated with a numerical index starting from `0`.\n",
        "     ```python\n",
        "     my_list = [10, 20, 30]\n",
        "     print(my_list[1])  # Output: 20\n",
        "     ```\n",
        "   - **Dictionary**: Data is retrieved by **key** (key-based access). Each value is associated with a unique key.\n",
        "     ```python\n",
        "     my_dict = {\"a\": 10, \"b\": 20, \"c\": 30}\n",
        "     print(my_dict[\"b\"])  # Output: 20\n",
        "     ```\n",
        "\n",
        "2. **Search Efficiency**:\n",
        "   - **List**: Searching for a specific value involves iterating through the list, with a time complexity of **O(n)**.\n",
        "   - **Dictionary**: Searching for a value by its key is fast, with an average time complexity of **O(1)** due to hash table implementation.\n",
        "\n",
        "3. **Key vs. Index**:\n",
        "   - **List**: Indexes are implicit and sequential (0, 1, 2, ...).\n",
        "   - **Dictionary**: Keys are explicitly defined and can be non-numeric (e.g., strings or tuples).\n",
        "\n",
        "4. **Order of Data**:\n",
        "   - **List**: Maintains the order of elements as they were added.\n",
        "   - **Dictionary**: Since Python 3.7, dictionaries also maintain insertion order, but retrieval is still key-based.\n",
        "\n",
        "5. **Use Case**:\n",
        "   - Use **lists** when you need ordered data and index-based access.\n",
        "   - Use **dictionaries** when you need key-based organization for fast lookups.\n",
        "\n",
        "---\n",
        "\n",
        "### Example Comparison:\n",
        "```python\n",
        "# List Example\n",
        "fruits = [\"apple\", \"banana\", \"cherry\"]\n",
        "print(fruits[1])  # Access by index: Output is \"banana\"\n",
        "\n",
        "# Dictionary Example\n",
        "fruit_colors = {\"apple\": \"red\", \"banana\": \"yellow\", \"cherry\": \"red\"}\n",
        "print(fruit_colors[\"banana\"])  # Access by key: Output is \"yellow\"\n",
        "```\n"
      ],
      "metadata": {
        "id": "kF1JjHfzoQsx"
      }
    },
    {
      "cell_type": "markdown",
      "source": [
        "### Practical Questions"
      ],
      "metadata": {
        "id": "X3nHVTREokTg"
      }
    },
    {
      "cell_type": "markdown",
      "source": [],
      "metadata": {
        "id": "qCaqted4oo5z"
      }
    },
    {
      "cell_type": "code",
      "source": [
        "###1. Create a string with your name and print it:\n",
        "\n",
        "\n",
        "name = \"aman upadhyay\"\n",
        "print(name)"
      ],
      "metadata": {
        "colab": {
          "base_uri": "https://localhost:8080/"
        },
        "id": "zxQkQ_pjpzgv",
        "outputId": "9aa15a2e-fef9-485b-9af2-1f476a1aed88"
      },
      "execution_count": 7,
      "outputs": [
        {
          "output_type": "stream",
          "name": "stdout",
          "text": [
            "aman upadhyay\n"
          ]
        }
      ]
    },
    {
      "cell_type": "code",
      "source": [
        "###2. Find the length of the string \"Hello World\":\n",
        "\n",
        "string = \"Hello World\"\n",
        "print(len(string))"
      ],
      "metadata": {
        "colab": {
          "base_uri": "https://localhost:8080/"
        },
        "id": "oDfPmhr0p-oM",
        "outputId": "464e3542-3396-46e5-ce74-dcac7f562ddc"
      },
      "execution_count": 8,
      "outputs": [
        {
          "output_type": "stream",
          "name": "stdout",
          "text": [
            "11\n"
          ]
        }
      ]
    },
    {
      "cell_type": "code",
      "source": [
        "###3. Slice the first 3 characters from the string \"Python Programming\":\n",
        "text = \"Python Programming\"\n",
        "print(text[:3])\n"
      ],
      "metadata": {
        "colab": {
          "base_uri": "https://localhost:8080/"
        },
        "id": "ouQ7kyxfqIaM",
        "outputId": "6d7cb4e3-c3f8-46ad-805b-8df04dc2b22c"
      },
      "execution_count": 9,
      "outputs": [
        {
          "output_type": "stream",
          "name": "stdout",
          "text": [
            "Pyt\n"
          ]
        }
      ]
    },
    {
      "cell_type": "code",
      "source": [
        "###4. Convert the string \"hello\" to uppercase:\n",
        "string = \"hello\"\n",
        "print(string.upper())\n"
      ],
      "metadata": {
        "colab": {
          "base_uri": "https://localhost:8080/"
        },
        "id": "n8n5SGAwqQHZ",
        "outputId": "8b7e335e-e6ee-4595-cae5-1fa8167a1b80"
      },
      "execution_count": 10,
      "outputs": [
        {
          "output_type": "stream",
          "name": "stdout",
          "text": [
            "HELLO\n"
          ]
        }
      ]
    },
    {
      "cell_type": "code",
      "source": [
        "###5. Replace the word \"apple\" with \"orange\" in the string \"I like apple\":\n",
        "text = \"I like apple\"\n",
        "print(text.replace(\"apple\", \"orange\"))\n"
      ],
      "metadata": {
        "colab": {
          "base_uri": "https://localhost:8080/"
        },
        "id": "M6AEYDGpqVwF",
        "outputId": "b27e3828-6c6f-4262-d9f4-42aedf42ab20"
      },
      "execution_count": 11,
      "outputs": [
        {
          "output_type": "stream",
          "name": "stdout",
          "text": [
            "I like orange\n"
          ]
        }
      ]
    },
    {
      "cell_type": "code",
      "source": [
        "###6Create a list with numbers 1 to 5 and print it:\n",
        "numbers = [1, 2, 3, 4, 5]\n",
        "print(numbers)\n"
      ],
      "metadata": {
        "colab": {
          "base_uri": "https://localhost:8080/"
        },
        "id": "oHgihmCMqcoy",
        "outputId": "3001d6fa-6a02-4493-8940-2b9bb88d69d3"
      },
      "execution_count": 12,
      "outputs": [
        {
          "output_type": "stream",
          "name": "stdout",
          "text": [
            "[1, 2, 3, 4, 5]\n"
          ]
        }
      ]
    },
    {
      "cell_type": "code",
      "source": [
        "###7. Append the number 10 to the list [1, 2, 3, 4]:\n",
        "numbers = [1, 2, 3, 4]\n",
        "numbers.append(10)\n",
        "print(numbers)\n"
      ],
      "metadata": {
        "colab": {
          "base_uri": "https://localhost:8080/"
        },
        "id": "N-e3XNKSqkQo",
        "outputId": "50afbcb5-1f15-4755-ac2e-30a0ee9963fc"
      },
      "execution_count": 13,
      "outputs": [
        {
          "output_type": "stream",
          "name": "stdout",
          "text": [
            "[1, 2, 3, 4, 10]\n"
          ]
        }
      ]
    },
    {
      "cell_type": "code",
      "source": [
        "###8. Remove the number 3 from the list [1, 2, 3, 4, 5]:\n",
        "numbers = [1, 2, 3, 4, 5]\n",
        "numbers.remove(3)\n",
        "print(numbers)\n"
      ],
      "metadata": {
        "colab": {
          "base_uri": "https://localhost:8080/"
        },
        "id": "-ZeqJ5tbqqvz",
        "outputId": "b7d9a875-5c4d-4c95-9366-ad8f0dcbe22b"
      },
      "execution_count": 14,
      "outputs": [
        {
          "output_type": "stream",
          "name": "stdout",
          "text": [
            "[1, 2, 4, 5]\n"
          ]
        }
      ]
    },
    {
      "cell_type": "code",
      "source": [
        "###9. Access the second element in the list ['a', 'b', 'c', 'd']:\n",
        "letters = ['a', 'b', 'c', 'd']\n",
        "print(letters[1])\n"
      ],
      "metadata": {
        "colab": {
          "base_uri": "https://localhost:8080/"
        },
        "id": "azVBqBmsqxs1",
        "outputId": "286ad224-bd2c-484f-bea5-f6af551f02ea"
      },
      "execution_count": 15,
      "outputs": [
        {
          "output_type": "stream",
          "name": "stdout",
          "text": [
            "b\n"
          ]
        }
      ]
    },
    {
      "cell_type": "code",
      "source": [
        "###10. Reverse the list [10, 20, 30, 40, 50]:\n",
        "numbers = [10, 20, 30, 40, 50]\n",
        "numbers.reverse()\n",
        "print(numbers)\n"
      ],
      "metadata": {
        "colab": {
          "base_uri": "https://localhost:8080/"
        },
        "id": "jfvBt0Zcq4py",
        "outputId": "a9f658f9-c83a-47b1-cc5b-ab22cfc70e15"
      },
      "execution_count": 16,
      "outputs": [
        {
          "output_type": "stream",
          "name": "stdout",
          "text": [
            "[50, 40, 30, 20, 10]\n"
          ]
        }
      ]
    },
    {
      "cell_type": "code",
      "source": [
        "###11. Create a tuple with the elements 10, 20, 30 and print it:\n",
        "\n",
        "my_tuple = (10, 20, 30)\n",
        "print(my_tuple)\n"
      ],
      "metadata": {
        "colab": {
          "base_uri": "https://localhost:8080/"
        },
        "id": "IW5X4g0Rq-cP",
        "outputId": "21122929-090e-45eb-fe66-9a56391d3b4a"
      },
      "execution_count": 17,
      "outputs": [
        {
          "output_type": "stream",
          "name": "stdout",
          "text": [
            "(10, 20, 30)\n"
          ]
        }
      ]
    },
    {
      "cell_type": "code",
      "source": [
        "###12. Access the first element of the tuple ('apple', 'banana', 'cherry'):\n",
        "\n",
        "fruits = ('apple', 'banana', 'cherry')\n",
        "print(fruits[0])"
      ],
      "metadata": {
        "colab": {
          "base_uri": "https://localhost:8080/"
        },
        "id": "fOi6aCR1rMOM",
        "outputId": "328bb543-c140-4954-ba42-25b5af96d445"
      },
      "execution_count": 18,
      "outputs": [
        {
          "output_type": "stream",
          "name": "stdout",
          "text": [
            "apple\n"
          ]
        }
      ]
    },
    {
      "cell_type": "code",
      "source": [
        "\n",
        "\n",
        "### 13. Count how many times the number 2 appears in the tuple `(1, 2, 3, 2, 4, 2)`:\n",
        "numbers = (1, 2, 3, 2, 4, 2)\n",
        "print(numbers.count(2))\n"
      ],
      "metadata": {
        "colab": {
          "base_uri": "https://localhost:8080/"
        },
        "id": "zuq7hXctrSEC",
        "outputId": "21300c1e-17a8-4d09-9f56-c60b4725d758"
      },
      "execution_count": 21,
      "outputs": [
        {
          "output_type": "stream",
          "name": "stdout",
          "text": [
            "3\n"
          ]
        }
      ]
    },
    {
      "cell_type": "code",
      "source": [
        "### 14. Find the index of the element \"cat\" in the tuple `('dog', 'cat', 'rabbit')`:\n",
        "animals = ('dog', 'cat', 'rabbit')\n",
        "print(animals.index(\"cat\"))\n",
        "\n",
        "\n"
      ],
      "metadata": {
        "colab": {
          "base_uri": "https://localhost:8080/"
        },
        "id": "0_8dNyZXsSbd",
        "outputId": "bb0f5104-35d1-4710-ae2c-b15dad4430bf"
      },
      "execution_count": 23,
      "outputs": [
        {
          "output_type": "stream",
          "name": "stdout",
          "text": [
            "1\n"
          ]
        }
      ]
    },
    {
      "cell_type": "code",
      "source": [
        "### 15. Check if the element \"banana\" is in the tuple `('apple', 'orange', 'banana')`:\n",
        "fruits = ('apple', 'orange', 'banana')\n",
        "print(\"banana\" in fruits)\n"
      ],
      "metadata": {
        "colab": {
          "base_uri": "https://localhost:8080/"
        },
        "id": "qKUqsuZyscqt",
        "outputId": "c848747f-3613-41c6-d789-ea1e6ae690ab"
      },
      "execution_count": 33,
      "outputs": [
        {
          "output_type": "stream",
          "name": "stdout",
          "text": [
            "True\n"
          ]
        }
      ]
    },
    {
      "cell_type": "code",
      "source": [
        "###16. Create a set with the elements 1, 2, 3, 4, 5 and print it:\n",
        "\n",
        "my_set = {1, 2, 3, 4, 5}\n",
        "print(my_set)"
      ],
      "metadata": {
        "colab": {
          "base_uri": "https://localhost:8080/"
        },
        "id": "8fqmDVWatUC5",
        "outputId": "9d5f065e-793e-48a4-c9ea-e1a5036901a0"
      },
      "execution_count": 34,
      "outputs": [
        {
          "output_type": "stream",
          "name": "stdout",
          "text": [
            "{1, 2, 3, 4, 5}\n"
          ]
        }
      ]
    },
    {
      "cell_type": "code",
      "source": [
        "\n",
        "### 17. Add the element 6 to the set `{1, 2, 3, 4}`:\n",
        "my_set = {1, 2, 3, 4}\n",
        "my_set.add(6)\n",
        "print(my_set)"
      ],
      "metadata": {
        "colab": {
          "base_uri": "https://localhost:8080/"
        },
        "id": "rfBLg8IKsgxn",
        "outputId": "42e41827-611a-4473-8120-72e1102a728b"
      },
      "execution_count": 24,
      "outputs": [
        {
          "output_type": "stream",
          "name": "stdout",
          "text": [
            "{1, 2, 3, 4, 6}\n"
          ]
        }
      ]
    },
    {
      "cell_type": "code",
      "source": [
        "### 18. Create a tuple with the elements 10, 20, 30 and print it:\n",
        "#(Repeated Task, same as Task 11)\n",
        "my_tuple = (10, 20, 30)\n",
        "print(my_tuple)"
      ],
      "metadata": {
        "colab": {
          "base_uri": "https://localhost:8080/"
        },
        "id": "Q2b716Kksi9J",
        "outputId": "08522435-b223-4dac-d37f-f418fc141096"
      },
      "execution_count": 25,
      "outputs": [
        {
          "output_type": "stream",
          "name": "stdout",
          "text": [
            "(10, 20, 30)\n"
          ]
        }
      ]
    },
    {
      "cell_type": "code",
      "source": [
        "### 19. Access the first element of the tuple `('apple', 'banana', 'cherry')`:\n",
        "#(Repeated Task, same as Task 12)\n",
        "fruits = ('apple', 'banana', 'cherry')\n",
        "print(fruits[0])"
      ],
      "metadata": {
        "colab": {
          "base_uri": "https://localhost:8080/"
        },
        "id": "7vLOD-v1tHQq",
        "outputId": "3b1e90b8-adab-4469-f96f-ae386c381cb7"
      },
      "execution_count": 31,
      "outputs": [
        {
          "output_type": "stream",
          "name": "stdout",
          "text": [
            "apple\n"
          ]
        }
      ]
    },
    {
      "cell_type": "code",
      "source": [
        "### 20. Count how many times the number 2 appears in the tuple `(1, 2, 3, 2, 4, 2)`:\n",
        "#Repeated Task, same as Task 13\n",
        "\n",
        "numbers = (1, 2, 3, 2, 4, 2)\n",
        "print(numbers.count(2))"
      ],
      "metadata": {
        "colab": {
          "base_uri": "https://localhost:8080/"
        },
        "id": "FXO22zWotB69",
        "outputId": "05c553d7-78dd-4dc5-a0e9-03ee2bb76ecc"
      },
      "execution_count": 30,
      "outputs": [
        {
          "output_type": "stream",
          "name": "stdout",
          "text": [
            "3\n"
          ]
        }
      ]
    },
    {
      "cell_type": "code",
      "source": [
        "\n",
        "### 21. Find the index of the element \"cat\" in the tuple `('dog', 'cat', 'rabbit')`:\n",
        "#(Repeated Task, same as Task 14)\n",
        "\n",
        "animals = ('dog', 'cat', 'rabbit')\n",
        "print(animals.index(\"cat\"))"
      ],
      "metadata": {
        "colab": {
          "base_uri": "https://localhost:8080/"
        },
        "id": "PNBhLcins7b4",
        "outputId": "264d4949-472f-42fe-cff8-4379c3534409"
      },
      "execution_count": 29,
      "outputs": [
        {
          "output_type": "stream",
          "name": "stdout",
          "text": [
            "1\n"
          ]
        }
      ]
    },
    {
      "cell_type": "code",
      "source": [
        "### 22. Check if the element \"banana\" is in the tuple `('apple', 'orange', 'banana')`:\n",
        "\n",
        "fruits = ('apple', 'orange', 'banana')\n",
        "print(\"banana\" in fruits)"
      ],
      "metadata": {
        "colab": {
          "base_uri": "https://localhost:8080/"
        },
        "id": "gqcNRWW1s3s2",
        "outputId": "29ae3eea-d80a-47c1-eed5-348a1eb69c5a"
      },
      "execution_count": 28,
      "outputs": [
        {
          "output_type": "stream",
          "name": "stdout",
          "text": [
            "True\n"
          ]
        }
      ]
    },
    {
      "cell_type": "code",
      "source": [
        "### 23. Create a set with the elements 1, 2, 3, 4, 5 and print it:\n",
        "\n",
        "my_set = {1, 2, 3, 4, 5}\n",
        "print(my_set)"
      ],
      "metadata": {
        "colab": {
          "base_uri": "https://localhost:8080/"
        },
        "id": "Wka0HJaJsyEe",
        "outputId": "dd1b963c-1d25-488d-ca93-bdd48bf0a7a4"
      },
      "execution_count": 27,
      "outputs": [
        {
          "output_type": "stream",
          "name": "stdout",
          "text": [
            "{1, 2, 3, 4, 5}\n"
          ]
        }
      ]
    },
    {
      "cell_type": "code",
      "source": [
        "### 24. Add the element 6 to the set `{1, 2, 3, 4}`:\n",
        "\n",
        "my_set = {1, 2, 3, 4}\n",
        "my_set.add(6)\n",
        "print(my_set)"
      ],
      "metadata": {
        "colab": {
          "base_uri": "https://localhost:8080/"
        },
        "id": "3AV99rM7srZp",
        "outputId": "d3f2da9c-c1d0-4ea2-c990-a8de64a7d9fc"
      },
      "execution_count": 26,
      "outputs": [
        {
          "output_type": "stream",
          "name": "stdout",
          "text": [
            "{1, 2, 3, 4, 6}\n"
          ]
        }
      ]
    }
  ]
}